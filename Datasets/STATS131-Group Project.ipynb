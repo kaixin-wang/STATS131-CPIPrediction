{
 "cells": [
  {
   "cell_type": "markdown",
   "metadata": {},
   "source": [
    "# CPI prediction project - STATS 131\n",
    "Group memebers: Kaixin Wang, Qin Hu, Ruby Zhang, and Emily Suan\n",
    "\n",
    "## 1. Objective:\n",
    "Predict CPI (customer price index) of countries using predictors relevant to economic growth. \n",
    "\n",
    "## 2. Introduction:\n",
    "### Datasets:\n",
    "* GDP_and_GDP_Per_Capita.csv (1)\n",
    "* Expenditure_on_Health.csv (2)\n",
    "* Production_Trade_and_Supply_of_Energy.csv (3)\n",
    "* Internet_Usage.csv (4)\n",
    "* Public_Expenditure_on_Education.csv (5)\n",
    "* Tourist_Visitors_Arrival_and_Expenditure.csv (6)\n",
    "* GDP_on_R&D.csv (7)\n",
    "* Exchange_Rates.csv (8)\n",
    "* Consumer_Price_Index.csv (9)\n",
    "\n",
    "### Variables from datasets:\n",
    "* response: CPI (9)\n",
    "* predictors:\n",
    "    - GDP (1)\n",
    "    - expenditure on health (2)\n",
    "    - energy usage (3)\n",
    "    - Internet usage (4)\n",
    "    - expenditure on education (5)\n",
    "    - expenditure on tourism (6)\n",
    "    - expenditure on science & technology (7)\n",
    "    - exchange rate (8)\n",
    "    \n",
    "### Datasets sources:\n",
    "United Nations: http://data.un.org/\n",
    "- National accounts (1)\n",
    "    - GDP and GDP per capita\n",
    "- Nutrition and health (2)\n",
    "    - Health expenditure\n",
    "- Energy (3)\n",
    "    - Energy production, trade and consumption\n",
    "- Communication (4)\n",
    "    - Internet usage\n",
    "- Education (5)\n",
    "    - Public expenditure on education\n",
    "- Science and technology (7)\n",
    "    - Human resources in R & D\n",
    "- Finance (8)\n",
    "    - Exchange rates\n",
    "- Price and production indices (9)\n",
    "    - Consumer price indices\n",
    "   "
   ]
  },
  {
   "cell_type": "markdown",
   "metadata": {},
   "source": [
    "## 3.  Data Clean-up:"
   ]
  },
  {
   "cell_type": "code",
   "execution_count": 1,
   "metadata": {},
   "outputs": [],
   "source": [
    "import numpy as np\n",
    "import pandas as pd\n",
    "import matplotlib.pyplot as plt\n",
    "import seaborn as sns"
   ]
  },
  {
   "cell_type": "code",
   "execution_count": 2,
   "metadata": {},
   "outputs": [],
   "source": [
    "# handling warning messages:\n",
    "import warnings\n",
    "warnings.filterwarnings('ignore')"
   ]
  },
  {
   "cell_type": "code",
   "execution_count": 3,
   "metadata": {},
   "outputs": [
    {
     "data": {
      "text/html": [
       "<div>\n",
       "<style scoped>\n",
       "    .dataframe tbody tr th:only-of-type {\n",
       "        vertical-align: middle;\n",
       "    }\n",
       "\n",
       "    .dataframe tbody tr th {\n",
       "        vertical-align: top;\n",
       "    }\n",
       "\n",
       "    .dataframe thead th {\n",
       "        text-align: right;\n",
       "    }\n",
       "</style>\n",
       "<table border=\"1\" class=\"dataframe\">\n",
       "  <thead>\n",
       "    <tr style=\"text-align: right;\">\n",
       "      <th></th>\n",
       "      <th>ID</th>\n",
       "      <th>Country</th>\n",
       "      <th>Year</th>\n",
       "      <th>Series</th>\n",
       "      <th>Value</th>\n",
       "    </tr>\n",
       "  </thead>\n",
       "  <tbody>\n",
       "    <tr>\n",
       "      <th>0</th>\n",
       "      <td>4</td>\n",
       "      <td>Afghanistan</td>\n",
       "      <td>2005</td>\n",
       "      <td>Consumer price index: General</td>\n",
       "      <td>71.1</td>\n",
       "    </tr>\n",
       "    <tr>\n",
       "      <th>1</th>\n",
       "      <td>4</td>\n",
       "      <td>Afghanistan</td>\n",
       "      <td>2010</td>\n",
       "      <td>Consumer price index: General</td>\n",
       "      <td>100.0</td>\n",
       "    </tr>\n",
       "    <tr>\n",
       "      <th>2</th>\n",
       "      <td>4</td>\n",
       "      <td>Afghanistan</td>\n",
       "      <td>2014</td>\n",
       "      <td>Consumer price index: General</td>\n",
       "      <td>133.1</td>\n",
       "    </tr>\n",
       "    <tr>\n",
       "      <th>3</th>\n",
       "      <td>4</td>\n",
       "      <td>Afghanistan</td>\n",
       "      <td>2015</td>\n",
       "      <td>Consumer price index: General</td>\n",
       "      <td>132.1</td>\n",
       "    </tr>\n",
       "    <tr>\n",
       "      <th>4</th>\n",
       "      <td>4</td>\n",
       "      <td>Afghanistan</td>\n",
       "      <td>2016</td>\n",
       "      <td>Consumer price index: General</td>\n",
       "      <td>137.9</td>\n",
       "    </tr>\n",
       "  </tbody>\n",
       "</table>\n",
       "</div>"
      ],
      "text/plain": [
       "   ID      Country  Year                         Series  Value\n",
       "0   4  Afghanistan  2005  Consumer price index: General   71.1\n",
       "1   4  Afghanistan  2010  Consumer price index: General  100.0\n",
       "2   4  Afghanistan  2014  Consumer price index: General  133.1\n",
       "3   4  Afghanistan  2015  Consumer price index: General  132.1\n",
       "4   4  Afghanistan  2016  Consumer price index: General  137.9"
      ]
     },
     "execution_count": 3,
     "metadata": {},
     "output_type": "execute_result"
    }
   ],
   "source": [
    "CPI = pd.read_csv(\"Consumer_Price_Index.csv\", encoding =\"ISO-8859-1\")\n",
    "CPI.Series.unique()      # to extra certain rows\n",
    "CPI = CPI.loc[CPI.Series == 'Consumer price index: General']\n",
    "countries = CPI.Country.unique()\n",
    "CPI.head()"
   ]
  },
  {
   "cell_type": "code",
   "execution_count": 4,
   "metadata": {},
   "outputs": [
    {
     "data": {
      "text/html": [
       "<div>\n",
       "<style scoped>\n",
       "    .dataframe tbody tr th:only-of-type {\n",
       "        vertical-align: middle;\n",
       "    }\n",
       "\n",
       "    .dataframe tbody tr th {\n",
       "        vertical-align: top;\n",
       "    }\n",
       "\n",
       "    .dataframe thead th {\n",
       "        text-align: right;\n",
       "    }\n",
       "</style>\n",
       "<table border=\"1\" class=\"dataframe\">\n",
       "  <thead>\n",
       "    <tr style=\"text-align: right;\">\n",
       "      <th></th>\n",
       "      <th>ID</th>\n",
       "      <th>Country</th>\n",
       "      <th>Year</th>\n",
       "      <th>Series</th>\n",
       "      <th>Value</th>\n",
       "    </tr>\n",
       "  </thead>\n",
       "  <tbody>\n",
       "    <tr>\n",
       "      <th>0</th>\n",
       "      <td>4</td>\n",
       "      <td>Afghanistan</td>\n",
       "      <td>2005</td>\n",
       "      <td>Current health expenditure (% of GDP)</td>\n",
       "      <td>9.9</td>\n",
       "    </tr>\n",
       "    <tr>\n",
       "      <th>1</th>\n",
       "      <td>4</td>\n",
       "      <td>Afghanistan</td>\n",
       "      <td>2010</td>\n",
       "      <td>Current health expenditure (% of GDP)</td>\n",
       "      <td>8.6</td>\n",
       "    </tr>\n",
       "    <tr>\n",
       "      <th>2</th>\n",
       "      <td>4</td>\n",
       "      <td>Afghanistan</td>\n",
       "      <td>2013</td>\n",
       "      <td>Current health expenditure (% of GDP)</td>\n",
       "      <td>8.8</td>\n",
       "    </tr>\n",
       "    <tr>\n",
       "      <th>3</th>\n",
       "      <td>4</td>\n",
       "      <td>Afghanistan</td>\n",
       "      <td>2014</td>\n",
       "      <td>Current health expenditure (% of GDP)</td>\n",
       "      <td>9.7</td>\n",
       "    </tr>\n",
       "    <tr>\n",
       "      <th>4</th>\n",
       "      <td>4</td>\n",
       "      <td>Afghanistan</td>\n",
       "      <td>2015</td>\n",
       "      <td>Current health expenditure (% of GDP)</td>\n",
       "      <td>10.3</td>\n",
       "    </tr>\n",
       "  </tbody>\n",
       "</table>\n",
       "</div>"
      ],
      "text/plain": [
       "   ID      Country  Year                                 Series  Value\n",
       "0   4  Afghanistan  2005  Current health expenditure (% of GDP)    9.9\n",
       "1   4  Afghanistan  2010  Current health expenditure (% of GDP)    8.6\n",
       "2   4  Afghanistan  2013  Current health expenditure (% of GDP)    8.8\n",
       "3   4  Afghanistan  2014  Current health expenditure (% of GDP)    9.7\n",
       "4   4  Afghanistan  2015  Current health expenditure (% of GDP)   10.3"
      ]
     },
     "execution_count": 4,
     "metadata": {},
     "output_type": "execute_result"
    }
   ],
   "source": [
    "health = pd.read_csv(\"Expenditure_on_Health.csv\", encoding =\"ISO-8859-1\")\n",
    "health = health.loc[health.Series == 'Current health expenditure (% of GDP)']\n",
    "health.head()"
   ]
  },
  {
   "cell_type": "code",
   "execution_count": 5,
   "metadata": {},
   "outputs": [],
   "source": [
    "GDP = pd.read_csv(\"GDP_and_GDP_Per_Capita.csv\", encoding =\"ISO-8859-1\")\n",
    "gdp = GDP.loc[GDP.Series == \"GDP per capita (US dollars)\"]"
   ]
  },
  {
   "cell_type": "code",
   "execution_count": 6,
   "metadata": {},
   "outputs": [],
   "source": [
    "energy = pd.read_csv(\"Production_Trade_and_Supply_of_Energy.csv\", encoding =\"ISO-8859-1\" )\n",
    "energy = energy.loc[energy.Series == \"Primary energy production (petajoules)\"]"
   ]
  },
  {
   "cell_type": "code",
   "execution_count": 7,
   "metadata": {},
   "outputs": [],
   "source": [
    "internet = pd.read_csv(\"Internet_Usage.csv\", encoding =\"ISO-8859-1\" )"
   ]
  },
  {
   "cell_type": "code",
   "execution_count": 8,
   "metadata": {},
   "outputs": [],
   "source": [
    "education = pd.read_csv(\"Public_Expenditure_on_Education.csv\", encoding =\"ISO-8859-1\" )\n",
    "education = education.loc[education.Series == \"Public expenditure on education (% of government expenditure)\"]"
   ]
  },
  {
   "cell_type": "code",
   "execution_count": 9,
   "metadata": {},
   "outputs": [],
   "source": [
    "tourism = pd.read_csv(\"Tourist_Visitors_Arrival_and_Expenditure.csv\", encoding =\"ISO-8859-1\" )\n",
    "tourism = tourism.loc[tourism.Series == \"Tourism expenditure (millions of US dollars)\"]"
   ]
  },
  {
   "cell_type": "code",
   "execution_count": 10,
   "metadata": {},
   "outputs": [],
   "source": [
    "technology = pd.read_csv(\"GDP_on_R&D.csv\", encoding =\"ISO-8859-1\" )\n",
    "tech = technology.loc[technology.Series == 'Gross domestic expenditure on R & D: as a percentage of GDP (%)']"
   ]
  },
  {
   "cell_type": "code",
   "execution_count": 11,
   "metadata": {},
   "outputs": [],
   "source": [
    "rates = pd.read_csv(\"Exchange_Rates.csv\", encoding =\"ISO-8859-1\" )\n",
    "rates = rates.loc[rates.Series == \"Exchange rates: period average (national currency per US dollar)\"]"
   ]
  },
  {
   "cell_type": "code",
   "execution_count": 12,
   "metadata": {},
   "outputs": [
    {
     "data": {
      "text/html": [
       "<div>\n",
       "<style scoped>\n",
       "    .dataframe tbody tr th:only-of-type {\n",
       "        vertical-align: middle;\n",
       "    }\n",
       "\n",
       "    .dataframe tbody tr th {\n",
       "        vertical-align: top;\n",
       "    }\n",
       "\n",
       "    .dataframe thead th {\n",
       "        text-align: right;\n",
       "    }\n",
       "</style>\n",
       "<table border=\"1\" class=\"dataframe\">\n",
       "  <thead>\n",
       "    <tr style=\"text-align: right;\">\n",
       "      <th>Country</th>\n",
       "      <th>Afghanistan</th>\n",
       "      <th>Albania</th>\n",
       "      <th>Algeria</th>\n",
       "      <th>Andorra</th>\n",
       "      <th>Angola</th>\n",
       "      <th>Anguilla</th>\n",
       "      <th>Antigua and Barbuda</th>\n",
       "      <th>Argentina</th>\n",
       "      <th>Armenia</th>\n",
       "      <th>Aruba</th>\n",
       "      <th>...</th>\n",
       "      <th>United States of America</th>\n",
       "      <th>Uruguay</th>\n",
       "      <th>Uzbekistan</th>\n",
       "      <th>Vanuatu</th>\n",
       "      <th>Venezuela (Boliv. Rep. of)</th>\n",
       "      <th>Viet Nam</th>\n",
       "      <th>Yemen</th>\n",
       "      <th>Zambia</th>\n",
       "      <th>Zanzibar</th>\n",
       "      <th>Zimbabwe</th>\n",
       "    </tr>\n",
       "    <tr>\n",
       "      <th>Year</th>\n",
       "      <th></th>\n",
       "      <th></th>\n",
       "      <th></th>\n",
       "      <th></th>\n",
       "      <th></th>\n",
       "      <th></th>\n",
       "      <th></th>\n",
       "      <th></th>\n",
       "      <th></th>\n",
       "      <th></th>\n",
       "      <th></th>\n",
       "      <th></th>\n",
       "      <th></th>\n",
       "      <th></th>\n",
       "      <th></th>\n",
       "      <th></th>\n",
       "      <th></th>\n",
       "      <th></th>\n",
       "      <th></th>\n",
       "      <th></th>\n",
       "      <th></th>\n",
       "    </tr>\n",
       "  </thead>\n",
       "  <tbody>\n",
       "    <tr>\n",
       "      <th>1985</th>\n",
       "      <td>282.0</td>\n",
       "      <td>783.0</td>\n",
       "      <td>2564.0</td>\n",
       "      <td>9837.0</td>\n",
       "      <td>859.0</td>\n",
       "      <td>4072.0</td>\n",
       "      <td>3508.0</td>\n",
       "      <td>3144.0</td>\n",
       "      <td>NaN</td>\n",
       "      <td>6108.0</td>\n",
       "      <td>...</td>\n",
       "      <td>18017.0</td>\n",
       "      <td>1735.0</td>\n",
       "      <td>NaN</td>\n",
       "      <td>1020.0</td>\n",
       "      <td>3425.0</td>\n",
       "      <td>79.0</td>\n",
       "      <td>NaN</td>\n",
       "      <td>399.0</td>\n",
       "      <td>NaN</td>\n",
       "      <td>872.0</td>\n",
       "    </tr>\n",
       "    <tr>\n",
       "      <th>1995</th>\n",
       "      <td>189.0</td>\n",
       "      <td>770.0</td>\n",
       "      <td>1452.0</td>\n",
       "      <td>23359.0</td>\n",
       "      <td>466.0</td>\n",
       "      <td>10583.0</td>\n",
       "      <td>7841.0</td>\n",
       "      <td>7993.0</td>\n",
       "      <td>426.0</td>\n",
       "      <td>16442.0</td>\n",
       "      <td>...</td>\n",
       "      <td>28758.0</td>\n",
       "      <td>6609.0</td>\n",
       "      <td>589.0</td>\n",
       "      <td>1621.0</td>\n",
       "      <td>3375.0</td>\n",
       "      <td>276.0</td>\n",
       "      <td>387.0</td>\n",
       "      <td>417.0</td>\n",
       "      <td>235.0</td>\n",
       "      <td>846.0</td>\n",
       "    </tr>\n",
       "    <tr>\n",
       "      <th>2005</th>\n",
       "      <td>264.0</td>\n",
       "      <td>2615.0</td>\n",
       "      <td>3100.0</td>\n",
       "      <td>41281.0</td>\n",
       "      <td>1891.0</td>\n",
       "      <td>18129.0</td>\n",
       "      <td>11453.0</td>\n",
       "      <td>5125.0</td>\n",
       "      <td>1753.0</td>\n",
       "      <td>23303.0</td>\n",
       "      <td>...</td>\n",
       "      <td>44173.0</td>\n",
       "      <td>5221.0</td>\n",
       "      <td>543.0</td>\n",
       "      <td>1886.0</td>\n",
       "      <td>5433.0</td>\n",
       "      <td>684.0</td>\n",
       "      <td>925.0</td>\n",
       "      <td>691.0</td>\n",
       "      <td>408.0</td>\n",
       "      <td>481.0</td>\n",
       "    </tr>\n",
       "    <tr>\n",
       "      <th>2010</th>\n",
       "      <td>558.0</td>\n",
       "      <td>4056.0</td>\n",
       "      <td>4463.0</td>\n",
       "      <td>39734.0</td>\n",
       "      <td>3586.0</td>\n",
       "      <td>19459.0</td>\n",
       "      <td>12175.0</td>\n",
       "      <td>10346.0</td>\n",
       "      <td>3432.0</td>\n",
       "      <td>23513.0</td>\n",
       "      <td>...</td>\n",
       "      <td>48574.0</td>\n",
       "      <td>11938.0</td>\n",
       "      <td>1382.0</td>\n",
       "      <td>2966.0</td>\n",
       "      <td>13566.0</td>\n",
       "      <td>1310.0</td>\n",
       "      <td>1309.0</td>\n",
       "      <td>1463.0</td>\n",
       "      <td>587.0</td>\n",
       "      <td>720.0</td>\n",
       "    </tr>\n",
       "    <tr>\n",
       "      <th>2015</th>\n",
       "      <td>611.0</td>\n",
       "      <td>3895.0</td>\n",
       "      <td>4163.0</td>\n",
       "      <td>36040.0</td>\n",
       "      <td>4171.0</td>\n",
       "      <td>22622.0</td>\n",
       "      <td>13602.0</td>\n",
       "      <td>14853.0</td>\n",
       "      <td>3618.0</td>\n",
       "      <td>25796.0</td>\n",
       "      <td>...</td>\n",
       "      <td>56948.0</td>\n",
       "      <td>15525.0</td>\n",
       "      <td>2160.0</td>\n",
       "      <td>2871.0</td>\n",
       "      <td>11054.0</td>\n",
       "      <td>2065.0</td>\n",
       "      <td>990.0</td>\n",
       "      <td>1319.0</td>\n",
       "      <td>795.0</td>\n",
       "      <td>1033.0</td>\n",
       "    </tr>\n",
       "  </tbody>\n",
       "</table>\n",
       "<p>5 rows × 214 columns</p>\n",
       "</div>"
      ],
      "text/plain": [
       "Country  Afghanistan  Albania  Algeria  Andorra  Angola  Anguilla  \\\n",
       "Year                                                                \n",
       "1985           282.0    783.0   2564.0   9837.0   859.0    4072.0   \n",
       "1995           189.0    770.0   1452.0  23359.0   466.0   10583.0   \n",
       "2005           264.0   2615.0   3100.0  41281.0  1891.0   18129.0   \n",
       "2010           558.0   4056.0   4463.0  39734.0  3586.0   19459.0   \n",
       "2015           611.0   3895.0   4163.0  36040.0  4171.0   22622.0   \n",
       "\n",
       "Country  Antigua and Barbuda  Argentina  Armenia    Aruba  ...  \\\n",
       "Year                                                       ...   \n",
       "1985                  3508.0     3144.0      NaN   6108.0  ...   \n",
       "1995                  7841.0     7993.0    426.0  16442.0  ...   \n",
       "2005                 11453.0     5125.0   1753.0  23303.0  ...   \n",
       "2010                 12175.0    10346.0   3432.0  23513.0  ...   \n",
       "2015                 13602.0    14853.0   3618.0  25796.0  ...   \n",
       "\n",
       "Country  United States of America  Uruguay  Uzbekistan  Vanuatu  \\\n",
       "Year                                                              \n",
       "1985                      18017.0   1735.0         NaN   1020.0   \n",
       "1995                      28758.0   6609.0       589.0   1621.0   \n",
       "2005                      44173.0   5221.0       543.0   1886.0   \n",
       "2010                      48574.0  11938.0      1382.0   2966.0   \n",
       "2015                      56948.0  15525.0      2160.0   2871.0   \n",
       "\n",
       "Country  Venezuela (Boliv. Rep. of)  Viet Nam   Yemen  Zambia  Zanzibar  \\\n",
       "Year                                                                      \n",
       "1985                         3425.0      79.0     NaN   399.0       NaN   \n",
       "1995                         3375.0     276.0   387.0   417.0     235.0   \n",
       "2005                         5433.0     684.0   925.0   691.0     408.0   \n",
       "2010                        13566.0    1310.0  1309.0  1463.0     587.0   \n",
       "2015                        11054.0    2065.0   990.0  1319.0     795.0   \n",
       "\n",
       "Country  Zimbabwe  \n",
       "Year               \n",
       "1985        872.0  \n",
       "1995        846.0  \n",
       "2005        481.0  \n",
       "2010        720.0  \n",
       "2015       1033.0  \n",
       "\n",
       "[5 rows x 214 columns]"
      ]
     },
     "execution_count": 12,
     "metadata": {},
     "output_type": "execute_result"
    }
   ],
   "source": [
    "gdp.pivot(index = \"Year\", columns = \"Country\", values = \"Value\").head()"
   ]
  },
  {
   "cell_type": "code",
   "execution_count": 13,
   "metadata": {},
   "outputs": [],
   "source": [
    "# pivoting all datasets:\n",
    "CPI = CPI.pivot(index = \"Year\", columns = \"Country\", values = \"Value\")\n",
    "GDP = gdp.pivot(index = \"Year\", columns = \"Country\", values = \"Value\")\n",
    "energy = energy.pivot(index = \"Year\", columns = \"Country\", values = \"Value\")\n",
    "health = health.pivot(index = \"Year\", columns = \"Country\", values = \"Value\")\n",
    "education = education.pivot(index = \"Year\", columns = \"Country\", values = \"Value\")\n",
    "tech = tech.pivot(index = \"Year\", columns = \"Country\", values = \"Value\")\n",
    "internet = internet.pivot(index = \"Year\", columns = \"Country\", values = \"Value\")\n",
    "rates = rates.pivot(index = \"Year\", columns = \"Country\", values = \"Value\")\n",
    "tourism = tourism.pivot(index = \"Year\", columns = \"Country\", values = \"Value\")"
   ]
  },
  {
   "cell_type": "code",
   "execution_count": 14,
   "metadata": {
    "scrolled": false
   },
   "outputs": [],
   "source": [
    "name = 'United States of America'\n",
    "table1 = pd.DataFrame(CPI.loc[:, name])\n",
    "table1 = pd.concat([table1, pd.DataFrame(GDP.loc[:, name]), pd.DataFrame(energy.loc[:, name]), pd.DataFrame(tech.loc[:, name]), pd.DataFrame(internet.loc[:, name]), pd.DataFrame(tourism.loc[:, name]), pd.DataFrame(health.loc[:, name])], keys = [\"Energy\", \"Tech\", \"Education\", \"Internet\", \"Tourism\", \"Health\"])\n",
    "table1 = table1.swaplevel().unstack()\n",
    "table1.fillna(method = \"ffill\", inplace = True)\n",
    "table1.fillna(method = \"bfill\", inplace = True)"
   ]
  },
  {
   "cell_type": "code",
   "execution_count": 15,
   "metadata": {},
   "outputs": [
    {
     "data": {
      "text/html": [
       "<div>\n",
       "<style scoped>\n",
       "    .dataframe tbody tr th:only-of-type {\n",
       "        vertical-align: middle;\n",
       "    }\n",
       "\n",
       "    .dataframe tbody tr th {\n",
       "        vertical-align: top;\n",
       "    }\n",
       "\n",
       "    .dataframe thead tr th {\n",
       "        text-align: left;\n",
       "    }\n",
       "\n",
       "    .dataframe thead tr:last-of-type th {\n",
       "        text-align: right;\n",
       "    }\n",
       "</style>\n",
       "<table border=\"1\" class=\"dataframe\">\n",
       "  <thead>\n",
       "    <tr>\n",
       "      <th></th>\n",
       "      <th colspan=\"6\" halign=\"left\">United States of America</th>\n",
       "    </tr>\n",
       "    <tr>\n",
       "      <th></th>\n",
       "      <th>Energy</th>\n",
       "      <th>Tech</th>\n",
       "      <th>Education</th>\n",
       "      <th>Internet</th>\n",
       "      <th>Tourism</th>\n",
       "      <th>Health</th>\n",
       "    </tr>\n",
       "    <tr>\n",
       "      <th>Year</th>\n",
       "      <th></th>\n",
       "      <th></th>\n",
       "      <th></th>\n",
       "      <th></th>\n",
       "      <th></th>\n",
       "      <th></th>\n",
       "    </tr>\n",
       "  </thead>\n",
       "  <tbody>\n",
       "    <tr>\n",
       "      <th>1985</th>\n",
       "      <td>69.9</td>\n",
       "      <td>18017.0</td>\n",
       "      <td>68588.0</td>\n",
       "      <td>2.5</td>\n",
       "      <td>43.1</td>\n",
       "      <td>93743.0</td>\n",
       "    </tr>\n",
       "    <tr>\n",
       "      <th>1990</th>\n",
       "      <td>69.9</td>\n",
       "      <td>18017.0</td>\n",
       "      <td>68588.0</td>\n",
       "      <td>2.5</td>\n",
       "      <td>43.1</td>\n",
       "      <td>93743.0</td>\n",
       "    </tr>\n",
       "    <tr>\n",
       "      <th>1995</th>\n",
       "      <td>69.9</td>\n",
       "      <td>28758.0</td>\n",
       "      <td>68963.0</td>\n",
       "      <td>2.5</td>\n",
       "      <td>43.1</td>\n",
       "      <td>93743.0</td>\n",
       "    </tr>\n",
       "    <tr>\n",
       "      <th>2000</th>\n",
       "      <td>69.9</td>\n",
       "      <td>28758.0</td>\n",
       "      <td>69339.0</td>\n",
       "      <td>2.5</td>\n",
       "      <td>43.1</td>\n",
       "      <td>93743.0</td>\n",
       "    </tr>\n",
       "    <tr>\n",
       "      <th>2001</th>\n",
       "      <td>69.9</td>\n",
       "      <td>28758.0</td>\n",
       "      <td>69339.0</td>\n",
       "      <td>2.5</td>\n",
       "      <td>43.1</td>\n",
       "      <td>93743.0</td>\n",
       "    </tr>\n",
       "  </tbody>\n",
       "</table>\n",
       "</div>"
      ],
      "text/plain": [
       "     United States of America                                             \n",
       "                       Energy     Tech Education Internet Tourism   Health\n",
       "Year                                                                      \n",
       "1985                     69.9  18017.0   68588.0      2.5    43.1  93743.0\n",
       "1990                     69.9  18017.0   68588.0      2.5    43.1  93743.0\n",
       "1995                     69.9  28758.0   68963.0      2.5    43.1  93743.0\n",
       "2000                     69.9  28758.0   69339.0      2.5    43.1  93743.0\n",
       "2001                     69.9  28758.0   69339.0      2.5    43.1  93743.0"
      ]
     },
     "execution_count": 15,
     "metadata": {},
     "output_type": "execute_result"
    }
   ],
   "source": [
    "table1.head()"
   ]
  },
  {
   "cell_type": "code",
   "execution_count": 16,
   "metadata": {
    "scrolled": true
   },
   "outputs": [],
   "source": [
    "name = 'China'\n",
    "table2 = pd.DataFrame(CPI.loc[:, name])\n",
    "table2 = pd.concat([table2, pd.DataFrame(GDP.loc[:, name]), pd.DataFrame(energy.loc[:, name]), pd.DataFrame(tech.loc[:, name]), pd.DataFrame(rates.loc[:, name]), pd.DataFrame(internet.loc[:, name]), pd.DataFrame(tourism.loc[:, name]), pd.DataFrame(health.loc[:, name])], keys = [\"Energy\", \"Tech\", \"Rates\", \"Internet\", \"Tourism\", \"Health\"])\n",
    "table2 = table2.swaplevel().unstack()\n",
    "table2.fillna(method = \"ffill\", inplace = True)\n",
    "table2.fillna(method = \"bfill\", inplace = True)"
   ]
  },
  {
   "cell_type": "code",
   "execution_count": 17,
   "metadata": {},
   "outputs": [
    {
     "data": {
      "text/html": [
       "<div>\n",
       "<style scoped>\n",
       "    .dataframe tbody tr th:only-of-type {\n",
       "        vertical-align: middle;\n",
       "    }\n",
       "\n",
       "    .dataframe tbody tr th {\n",
       "        vertical-align: top;\n",
       "    }\n",
       "\n",
       "    .dataframe thead tr th {\n",
       "        text-align: left;\n",
       "    }\n",
       "\n",
       "    .dataframe thead tr:last-of-type th {\n",
       "        text-align: right;\n",
       "    }\n",
       "</style>\n",
       "<table border=\"1\" class=\"dataframe\">\n",
       "  <thead>\n",
       "    <tr>\n",
       "      <th></th>\n",
       "      <th colspan=\"6\" halign=\"left\">China</th>\n",
       "    </tr>\n",
       "    <tr>\n",
       "      <th></th>\n",
       "      <th>Energy</th>\n",
       "      <th>Tech</th>\n",
       "      <th>Rates</th>\n",
       "      <th>Internet</th>\n",
       "      <th>Tourism</th>\n",
       "      <th>Health</th>\n",
       "    </tr>\n",
       "    <tr>\n",
       "      <th>Year</th>\n",
       "      <th></th>\n",
       "      <th></th>\n",
       "      <th></th>\n",
       "      <th></th>\n",
       "      <th></th>\n",
       "      <th></th>\n",
       "    </tr>\n",
       "  </thead>\n",
       "  <tbody>\n",
       "    <tr>\n",
       "      <th>1985</th>\n",
       "      <td>100.0</td>\n",
       "      <td>289.0</td>\n",
       "      <td>32727.0</td>\n",
       "      <td>1.3</td>\n",
       "      <td>2.9</td>\n",
       "      <td>1.8</td>\n",
       "    </tr>\n",
       "    <tr>\n",
       "      <th>1990</th>\n",
       "      <td>100.0</td>\n",
       "      <td>289.0</td>\n",
       "      <td>32727.0</td>\n",
       "      <td>1.3</td>\n",
       "      <td>2.9</td>\n",
       "      <td>1.8</td>\n",
       "    </tr>\n",
       "    <tr>\n",
       "      <th>1995</th>\n",
       "      <td>100.0</td>\n",
       "      <td>592.0</td>\n",
       "      <td>39692.0</td>\n",
       "      <td>1.3</td>\n",
       "      <td>8.4</td>\n",
       "      <td>1.8</td>\n",
       "    </tr>\n",
       "    <tr>\n",
       "      <th>2000</th>\n",
       "      <td>100.0</td>\n",
       "      <td>592.0</td>\n",
       "      <td>40783.0</td>\n",
       "      <td>1.3</td>\n",
       "      <td>8.4</td>\n",
       "      <td>1.8</td>\n",
       "    </tr>\n",
       "    <tr>\n",
       "      <th>2001</th>\n",
       "      <td>100.0</td>\n",
       "      <td>592.0</td>\n",
       "      <td>40783.0</td>\n",
       "      <td>1.3</td>\n",
       "      <td>8.4</td>\n",
       "      <td>1.8</td>\n",
       "    </tr>\n",
       "  </tbody>\n",
       "</table>\n",
       "</div>"
      ],
      "text/plain": [
       "      China                                        \n",
       "     Energy   Tech    Rates Internet Tourism Health\n",
       "Year                                               \n",
       "1985  100.0  289.0  32727.0      1.3     2.9    1.8\n",
       "1990  100.0  289.0  32727.0      1.3     2.9    1.8\n",
       "1995  100.0  592.0  39692.0      1.3     8.4    1.8\n",
       "2000  100.0  592.0  40783.0      1.3     8.4    1.8\n",
       "2001  100.0  592.0  40783.0      1.3     8.4    1.8"
      ]
     },
     "execution_count": 17,
     "metadata": {},
     "output_type": "execute_result"
    }
   ],
   "source": [
    "table2.head()"
   ]
  },
  {
   "cell_type": "markdown",
   "metadata": {},
   "source": [
    "## 4. Exploratory Data Analysis:"
   ]
  },
  {
   "cell_type": "code",
   "execution_count": 18,
   "metadata": {},
   "outputs": [],
   "source": [
    "# processing data:\n",
    "rates[\"United States of America\"] = 1.0   # rates for US is always 1\n",
    "education[\"China\"] = 0                    # no entries for education of China\n",
    "CPI[\"China\"].loc[CPI[\"China\"].index == 2016] = CPI[\"China\"].loc[CPI[\"China\"].index == 2015].iloc[0] * CPI[\"China\"].loc[CPI[\"China\"].index == 2016].iloc[0] / 100\n",
    "CPI[\"China\"].loc[CPI[\"China\"].index == 2017] = CPI[\"China\"].loc[CPI[\"China\"].index == 2015].iloc[0]  * CPI[\"China\"].loc[CPI[\"China\"].index == 2017].iloc[0] / 100\n",
    "years = CPI.index\n",
    "# since CPI = 100 for year 2010 (base year)\n",
    "years = [1995, 2005, 2014, 2015, 2016, 2017]"
   ]
  },
  {
   "cell_type": "code",
   "execution_count": 19,
   "metadata": {
    "scrolled": true
   },
   "outputs": [],
   "source": [
    "# G7 countires: United States of America, Germany, France, Japan, Canada, United Kingdon and Italy\n",
    "# BRICS countires: Brazil, Russian Federation, India, China and South Africa\n",
    "G7 = [\"United States of America\", \"Germany\", \"France\", \"Japan\", \"Canada\", \"United Kingdom\", \"Italy\"]\n",
    "BRICS = [\"Brazil\", \"Russian Federation\", \"India\", \"China\", \"South Africa\"]\n",
    "df1 = pd.DataFrame()\n",
    "for name in G7: \n",
    "    table = pd.DataFrame(CPI.loc[years, name])\n",
    "    table = pd.concat([table, pd.DataFrame(GDP.loc[years, name]), pd.DataFrame(energy.loc[years, name]), pd.DataFrame(tech.loc[years, name]), pd.DataFrame(education.loc[years, name]), pd.DataFrame(rates.loc[years, name]), pd.DataFrame(internet.loc[years, name]), pd.DataFrame(tourism.loc[years, name]), pd.DataFrame(health.loc[years, name])], keys = [\"CPI\", \"GDP\", \"Energy\", \"Tech\", \"Education\", \"Rates\", \"Internet\", \"Tourism\", \"Health\"])\n",
    "    table = table.swaplevel().unstack()\n",
    "    table.fillna(method = \"ffill\", inplace = True)\n",
    "    table.fillna(method = \"bfill\", inplace = True)\n",
    "    df1 = pd.concat([df1, table], axis = 1)\n",
    "    \n",
    "df2 = pd.DataFrame()\n",
    "for name in BRICS: \n",
    "    table = pd.DataFrame(CPI.loc[years, name])\n",
    "    table = pd.concat([table, pd.DataFrame(GDP.loc[years, name]), pd.DataFrame(energy.loc[years, name]), pd.DataFrame(tech.loc[years, name]), pd.DataFrame(education.loc[years, name]), pd.DataFrame(rates.loc[years, name]), pd.DataFrame(internet.loc[years, name]), pd.DataFrame(tourism.loc[years, name]), pd.DataFrame(health.loc[years, name])], keys = [\"CPI\", \"GDP\", \"Energy\", \"Tech\", \"Education\", \"Rates\", \"Internet\", \"Tourism\", \"Health\"])\n",
    "    table = table.swaplevel().unstack()\n",
    "    table.fillna(method = \"ffill\", inplace = True)\n",
    "    table.fillna(method = \"bfill\", inplace = True)\n",
    "    df2 = pd.concat([df2, table], axis = 1)\n",
    "    \n",
    "df1.fillna(0, inplace = True)\n",
    "df2.fillna(0, inplace = True)"
   ]
  },
  {
   "cell_type": "code",
   "execution_count": 20,
   "metadata": {},
   "outputs": [
    {
     "data": {
      "image/png": "[encoded data removed]",
      "text/plain": [
       "<Figure size 1080x1080 with 14 Axes>"
      ]
     },
     "metadata": {
      "needs_background": "light"
     },
     "output_type": "display_data"
    }
   ],
   "source": [
    "# G7 countries:\n",
    "plt.figure(figsize = (15, 15))\n",
    "plt.subplots_adjust(bottom = 0.5, right = 1, top = 1.2, hspace = 0.5)\n",
    "for i in range(1, 8):\n",
    "    plt.subplot(3, 3, i)\n",
    "    corr = df1[G7[i - 1]].corr()\n",
    "    sns.heatmap(corr, xticklabels = corr.columns.values, yticklabels = corr.columns.values)\n",
    "    plt.title(G7[i - 1])\n",
    "plt.show()"
   ]
  },
  {
   "cell_type": "code",
   "execution_count": 21,
   "metadata": {},
   "outputs": [
    {
     "data": {
      "image/png": "[encoded data removed]",
      "text/plain": [
       "<Figure size 1080x1080 with 10 Axes>"
      ]
     },
     "metadata": {
      "needs_background": "light"
     },
     "output_type": "display_data"
    }
   ],
   "source": [
    "# BRICS countries:\n",
    "plt.figure(figsize = (15, 15))\n",
    "plt.subplots_adjust(bottom = 0.5, right = 1, top = 1, hspace = 0.5)\n",
    "for i in range(1, 6):\n",
    "    plt.subplot(2,3,i)\n",
    "    corr = df2[BRICS[i-1]].corr()\n",
    "    sns.heatmap(corr, xticklabels = corr.columns.values, yticklabels = corr.columns.values)\n",
    "    plt.title(BRICS[i-1])\n",
    "plt.show()"
   ]
  },
  {
   "cell_type": "code",
   "execution_count": 22,
   "metadata": {},
   "outputs": [
    {
     "data": {
      "image/png": "[encoded data removed]",
      "text/plain": [
       "<Figure size 648x360 with 1 Axes>"
      ]
     },
     "metadata": {
      "needs_background": "light"
     },
     "output_type": "display_data"
    }
   ],
   "source": [
    "plt.figure(figsize = (9, 5))\n",
    "for i in range(7):\n",
    "    plt.plot(df1.index, df1[G7[i]].CPI, label = G7[i])\n",
    "    plt.legend()\n",
    "    plt.title(\"CPI vs. year for G7 countries\")\n",
    "plt.show()"
   ]
  },
  {
   "cell_type": "code",
   "execution_count": 23,
   "metadata": {
    "scrolled": true
   },
   "outputs": [
    {
     "data": {
      "image/png": "[encoded data removed]",
      "text/plain": [
       "<Figure size 648x360 with 1 Axes>"
      ]
     },
     "metadata": {
      "needs_background": "light"
     },
     "output_type": "display_data"
    }
   ],
   "source": [
    "plt.figure(figsize = (9, 5))\n",
    "for i in range(7):\n",
    "    plt.plot(df1.index, df1[G7[i]].GDP, label = G7[i])\n",
    "    plt.legend()\n",
    "    plt.title(\"GPD vs. year for G7 countries\")\n",
    "plt.show()"
   ]
  },
  {
   "cell_type": "code",
   "execution_count": 24,
   "metadata": {
    "scrolled": true
   },
   "outputs": [
    {
     "data": {
      "image/png": "[encoded data removed]",
      "text/plain": [
       "<Figure size 648x360 with 1 Axes>"
      ]
     },
     "metadata": {
      "needs_background": "light"
     },
     "output_type": "display_data"
    }
   ],
   "source": [
    "plt.figure(figsize = (9, 5))\n",
    "colors = [\"b\",\"g\",\"m\",\"r\",\"c\",\"y\",\"p\"]\n",
    "for i in range(7):\n",
    "    plt.scatter(df1[G7[i]].GDP, df1[G7[i]].CPI, label = G7[i])\n",
    "    plt.legend()\n",
    "    plt.title(\"CPI vs. GPD for G7 countries\")\n",
    "plt.show()"
   ]
  },
  {
   "cell_type": "code",
   "execution_count": 25,
   "metadata": {},
   "outputs": [
    {
     "data": {
      "image/png": "[encoded data removed]",
      "text/plain": [
       "<Figure size 648x360 with 1 Axes>"
      ]
     },
     "metadata": {
      "needs_background": "light"
     },
     "output_type": "display_data"
    }
   ],
   "source": [
    "plt.figure(figsize = (9, 5))\n",
    "for i in range(5):\n",
    "    plt.plot(df2.index, df2[BRICS[i]].CPI, label = BRICS[i])\n",
    "    plt.legend()\n",
    "    plt.title(\"CPI vs. year for BRICS countries\")\n",
    "plt.show()"
   ]
  },
  {
   "cell_type": "code",
   "execution_count": 26,
   "metadata": {},
   "outputs": [
    {
     "data": {
      "image/png": "[encoded data removed]",
      "text/plain": [
       "<Figure size 648x360 with 1 Axes>"
      ]
     },
     "metadata": {
      "needs_background": "light"
     },
     "output_type": "display_data"
    }
   ],
   "source": [
    "plt.figure(figsize = (9, 5))\n",
    "for i in range(5):\n",
    "    plt.plot(df2.index, df2[BRICS[i]].GDP, label = BRICS[i])\n",
    "    plt.legend()\n",
    "    plt.title(\"GPD vs. year for BRICS countries\")\n",
    "plt.show()"
   ]
  },
  {
   "cell_type": "code",
   "execution_count": 27,
   "metadata": {
    "scrolled": true
   },
   "outputs": [
    {
     "data": {
      "image/png": "[encoded data removed]",
      "text/plain": [
       "<Figure size 648x360 with 1 Axes>"
      ]
     },
     "metadata": {
      "needs_background": "light"
     },
     "output_type": "display_data"
    }
   ],
   "source": [
    "plt.figure(figsize = (9, 5))\n",
    "colors = [\"b\",\"g\",\"m\",\"r\",\"c\",\"y\",\"p\"]\n",
    "for i in range(5):\n",
    "    plt.scatter(df2[BRICS[i]].GDP, df2[BRICS[i]].CPI, label = BRICS[i])\n",
    "    plt.legend()\n",
    "    plt.title(\"CPI vs. GPD for BRICS countries\")\n",
    "plt.show()"
   ]
  },
  {
   "cell_type": "code",
   "execution_count": 28,
   "metadata": {},
   "outputs": [
    {
     "data": {
      "image/png": "[encoded data removed]",
      "text/plain": [
       "<Figure size 360x360 with 1 Axes>"
      ]
     },
     "metadata": {
      "needs_background": "light"
     },
     "output_type": "display_data"
    }
   ],
   "source": [
    "sns.lmplot(\"CPI\", \"GDP\", data = df2[BRICS[0]])\n",
    "plt.show()"
   ]
  },
  {
   "cell_type": "code",
   "execution_count": 29,
   "metadata": {},
   "outputs": [
    {
     "data": {
      "text/plain": [
       "<Figure size 648x360 with 0 Axes>"
      ]
     },
     "metadata": {},
     "output_type": "display_data"
    },
    {
     "data": {
      "image/png": "[encoded data removed]",
      "text/plain": [
       "<Figure size 360x360 with 1 Axes>"
      ]
     },
     "metadata": {
      "needs_background": "light"
     },
     "output_type": "display_data"
    },
    {
     "data": {
      "image/png": "[encoded data removed]",
      "text/plain": [
       "<Figure size 360x360 with 1 Axes>"
      ]
     },
     "metadata": {
      "needs_background": "light"
     },
     "output_type": "display_data"
    },
    {
     "data": {
      "image/png": "[encoded data removed]",
      "text/plain": [
       "<Figure size 360x360 with 1 Axes>"
      ]
     },
     "metadata": {
      "needs_background": "light"
     },
     "output_type": "display_data"
    },
    {
     "data": {
      "image/png": "[encoded data removed]",
      "text/plain": [
       "<Figure size 360x360 with 1 Axes>"
      ]
     },
     "metadata": {
      "needs_background": "light"
     },
     "output_type": "display_data"
    },
    {
     "data": {
      "image/png": "[encoded data removed]",
      "text/plain": [
       "<Figure size 360x360 with 1 Axes>"
      ]
     },
     "metadata": {
      "needs_background": "light"
     },
     "output_type": "display_data"
    }
   ],
   "source": [
    "plt.figure(figsize = (9, 5))\n",
    "colors = [\"b\",\"g\",\"m\",\"r\",\"c\",\"y\",\"p\"]\n",
    "for i in range(5):\n",
    "    # plt.subplot(2,3,i+1)\n",
    "    sns.lmplot(\"CPI\", \"GDP\", data = df2[BRICS[i]])\n",
    "    plt.title(BRICS[i])\n",
    "plt.show()"
   ]
  },
  {
   "cell_type": "code",
   "execution_count": 30,
   "metadata": {
    "scrolled": false
   },
   "outputs": [],
   "source": [
    "# Final dataframe for modeling:\n",
    "G7 = [\"United States of America\", \"Germany\", \"France\", \"Japan\", \"Canada\", \"United Kingdom\", \"Italy\"]\n",
    "BRICS = [\"Brazil\", \"Russian Federation\", \"India\", \"China\", \"South Africa\"]\n",
    "df1 = pd.DataFrame()\n",
    "for name in G7: \n",
    "    table = pd.DataFrame(CPI.stack().loc[list(years), name])\n",
    "    table = pd.concat([table, pd.DataFrame(GDP.stack().loc[list(years), name]), pd.DataFrame(energy.stack().loc[list(years), name]), pd.DataFrame(tech.stack().loc[list(years), name]), pd.DataFrame(education.stack().loc[list(years), name]), pd.DataFrame(rates.stack().loc[list(years), name]), pd.DataFrame(internet.stack().loc[list(years), name]), pd.DataFrame(tourism.stack().loc[list(years), name]), pd.DataFrame(health.stack().loc[list(years), name])], keys = [\"CPI\", \"GDP\", \"Energy\", \"Tech\", \"Education\", \"Rates\", \"Internet\", \"Tourism\", \"Health\"], axis = 1)\n",
    "    table.fillna(method = \"ffill\", inplace = True)\n",
    "    table.fillna(method = \"bfill\", inplace = True)\n",
    "    df1 = pd.concat([df1, table])\n",
    "    \n",
    "df2 = pd.DataFrame()\n",
    "for name in BRICS: \n",
    "    table = pd.DataFrame(CPI.stack().loc[list(years), name])\n",
    "    table = pd.concat([table, pd.DataFrame(GDP.stack().loc[list(years), name]), pd.DataFrame(energy.stack().loc[list(years), name]), pd.DataFrame(tech.stack().loc[list(years), name]), pd.DataFrame(education.stack().loc[list(years), name]), pd.DataFrame(rates.stack().loc[list(years), name]), pd.DataFrame(internet.stack().loc[list(years), name]), pd.DataFrame(tourism.stack().loc[list(years), name]), pd.DataFrame(health.stack().loc[list(years), name])], keys = [\"CPI\", \"GDP\", \"Energy\", \"Tech\", \"Education\", \"Rates\", \"Internet\", \"Tourism\", \"Health\"], axis = 1)\n",
    "    table.fillna(method = \"ffill\", inplace = True)\n",
    "    table.fillna(method = \"bfill\", inplace = True)\n",
    "    df2 = pd.concat([df2, table])\n",
    "    \n",
    "df1.fillna(0, inplace = True)\n",
    "df2.fillna(0, inplace = True)\n",
    "\n",
    "df1.columns = df1.columns.droplevel(1)\n",
    "df1[\"Country\"] = df1.index.get_level_values(1)\n",
    "df1.index = df1.index.droplevel(1)\n",
    "df2.columns = df2.columns.droplevel(1)\n",
    "df2[\"Country\"] = df2.index.get_level_values(1)\n",
    "df2.index = df2.index.droplevel(1)"
   ]
  },
  {
   "cell_type": "code",
   "execution_count": 31,
   "metadata": {},
   "outputs": [
    {
     "data": {
      "text/html": [
       "<div>\n",
       "<style scoped>\n",
       "    .dataframe tbody tr th:only-of-type {\n",
       "        vertical-align: middle;\n",
       "    }\n",
       "\n",
       "    .dataframe tbody tr th {\n",
       "        vertical-align: top;\n",
       "    }\n",
       "\n",
       "    .dataframe thead th {\n",
       "        text-align: right;\n",
       "    }\n",
       "</style>\n",
       "<table border=\"1\" class=\"dataframe\">\n",
       "  <thead>\n",
       "    <tr style=\"text-align: right;\">\n",
       "      <th></th>\n",
       "      <th>CPI</th>\n",
       "      <th>GDP</th>\n",
       "      <th>Energy</th>\n",
       "      <th>Tech</th>\n",
       "      <th>Education</th>\n",
       "      <th>Rates</th>\n",
       "      <th>Internet</th>\n",
       "      <th>Tourism</th>\n",
       "      <th>Health</th>\n",
       "      <th>Country</th>\n",
       "      <th>Country_code</th>\n",
       "    </tr>\n",
       "    <tr>\n",
       "      <th>Year</th>\n",
       "      <th></th>\n",
       "      <th></th>\n",
       "      <th></th>\n",
       "      <th></th>\n",
       "      <th></th>\n",
       "      <th></th>\n",
       "      <th></th>\n",
       "      <th></th>\n",
       "      <th></th>\n",
       "      <th></th>\n",
       "      <th></th>\n",
       "    </tr>\n",
       "  </thead>\n",
       "  <tbody>\n",
       "    <tr>\n",
       "      <th>1995</th>\n",
       "      <td>69.9</td>\n",
       "      <td>28758.0</td>\n",
       "      <td>68963.0</td>\n",
       "      <td>2.5</td>\n",
       "      <td>13.5</td>\n",
       "      <td>1.0</td>\n",
       "      <td>68.0</td>\n",
       "      <td>93743.0</td>\n",
       "      <td>14.5</td>\n",
       "      <td>United States of America</td>\n",
       "      <td>1</td>\n",
       "    </tr>\n",
       "    <tr>\n",
       "      <th>2005</th>\n",
       "      <td>89.6</td>\n",
       "      <td>44173.0</td>\n",
       "      <td>68124.0</td>\n",
       "      <td>2.5</td>\n",
       "      <td>13.5</td>\n",
       "      <td>1.0</td>\n",
       "      <td>68.0</td>\n",
       "      <td>122077.0</td>\n",
       "      <td>14.5</td>\n",
       "      <td>United States of America</td>\n",
       "      <td>1</td>\n",
       "    </tr>\n",
       "    <tr>\n",
       "      <th>2014</th>\n",
       "      <td>108.6</td>\n",
       "      <td>44173.0</td>\n",
       "      <td>83426.0</td>\n",
       "      <td>2.5</td>\n",
       "      <td>13.5</td>\n",
       "      <td>1.0</td>\n",
       "      <td>73.0</td>\n",
       "      <td>122077.0</td>\n",
       "      <td>16.5</td>\n",
       "      <td>United States of America</td>\n",
       "      <td>1</td>\n",
       "    </tr>\n",
       "    <tr>\n",
       "      <th>2015</th>\n",
       "      <td>108.7</td>\n",
       "      <td>56948.0</td>\n",
       "      <td>84051.0</td>\n",
       "      <td>2.5</td>\n",
       "      <td>13.5</td>\n",
       "      <td>1.0</td>\n",
       "      <td>74.6</td>\n",
       "      <td>249183.0</td>\n",
       "      <td>16.8</td>\n",
       "      <td>United States of America</td>\n",
       "      <td>1</td>\n",
       "    </tr>\n",
       "    <tr>\n",
       "      <th>2016</th>\n",
       "      <td>110.1</td>\n",
       "      <td>58064.0</td>\n",
       "      <td>79672.0</td>\n",
       "      <td>2.7</td>\n",
       "      <td>13.5</td>\n",
       "      <td>1.0</td>\n",
       "      <td>75.2</td>\n",
       "      <td>246172.0</td>\n",
       "      <td>16.8</td>\n",
       "      <td>United States of America</td>\n",
       "      <td>1</td>\n",
       "    </tr>\n",
       "  </tbody>\n",
       "</table>\n",
       "</div>"
      ],
      "text/plain": [
       "        CPI      GDP   Energy  Tech  Education  Rates  Internet   Tourism  \\\n",
       "Year                                                                        \n",
       "1995   69.9  28758.0  68963.0   2.5       13.5    1.0      68.0   93743.0   \n",
       "2005   89.6  44173.0  68124.0   2.5       13.5    1.0      68.0  122077.0   \n",
       "2014  108.6  44173.0  83426.0   2.5       13.5    1.0      73.0  122077.0   \n",
       "2015  108.7  56948.0  84051.0   2.5       13.5    1.0      74.6  249183.0   \n",
       "2016  110.1  58064.0  79672.0   2.7       13.5    1.0      75.2  246172.0   \n",
       "\n",
       "      Health                   Country  Country_code  \n",
       "Year                                                  \n",
       "1995    14.5  United States of America             1  \n",
       "2005    14.5  United States of America             1  \n",
       "2014    16.5  United States of America             1  \n",
       "2015    16.8  United States of America             1  \n",
       "2016    16.8  United States of America             1  "
      ]
     },
     "execution_count": 31,
     "metadata": {},
     "output_type": "execute_result"
    }
   ],
   "source": [
    "# adding country_code variable:\n",
    "# G7 countires: United States of America, Germany, France, Japan, Canada, United Kingdon and Italy\n",
    "# BRICS countires: Brazil, Russian Federation, India, China and South Africa\n",
    "code1 = {\"United States of America\" : 1, \"Germany\" : 2, \"France\" : 3, \"Japan\" : 4, \"Canada\" : 5, \n",
    "         \"United Kingdom\" : 6, \"Italy\" : 7}\n",
    "code2 = {\"Brazil\" : 8, \"Russian Federation\" : 9, \"India\" : 10, \"China\" : 11, \"South Africa\" : 12}\n",
    "df1[\"Country_code\"] = [code1[country] for country in df1.Country]\n",
    "df2[\"Country_code\"] = [code2[country] for country in df2.Country]\n",
    "df1.head()"
   ]
  },
  {
   "cell_type": "code",
   "execution_count": 32,
   "metadata": {},
   "outputs": [
    {
     "data": {
      "text/html": [
       "<div>\n",
       "<style scoped>\n",
       "    .dataframe tbody tr th:only-of-type {\n",
       "        vertical-align: middle;\n",
       "    }\n",
       "\n",
       "    .dataframe tbody tr th {\n",
       "        vertical-align: top;\n",
       "    }\n",
       "\n",
       "    .dataframe thead th {\n",
       "        text-align: right;\n",
       "    }\n",
       "</style>\n",
       "<table border=\"1\" class=\"dataframe\">\n",
       "  <thead>\n",
       "    <tr style=\"text-align: right;\">\n",
       "      <th></th>\n",
       "      <th>United States of America</th>\n",
       "      <th>Germany</th>\n",
       "      <th>France</th>\n",
       "      <th>Japan</th>\n",
       "      <th>Canada</th>\n",
       "      <th>United Kingdom</th>\n",
       "      <th>Italy</th>\n",
       "    </tr>\n",
       "  </thead>\n",
       "  <tbody>\n",
       "    <tr>\n",
       "      <th>min</th>\n",
       "      <td>69.9</td>\n",
       "      <td>80.5</td>\n",
       "      <td>79.5</td>\n",
       "      <td>100.4</td>\n",
       "      <td>75.2</td>\n",
       "      <td>87.4</td>\n",
       "      <td>71.6</td>\n",
       "    </tr>\n",
       "    <tr>\n",
       "      <th>max</th>\n",
       "      <td>112.4</td>\n",
       "      <td>109.3</td>\n",
       "      <td>106.8</td>\n",
       "      <td>104.0</td>\n",
       "      <td>112.0</td>\n",
       "      <td>115.6</td>\n",
       "      <td>108.7</td>\n",
       "    </tr>\n",
       "  </tbody>\n",
       "</table>\n",
       "</div>"
      ],
      "text/plain": [
       "     United States of America  Germany  France  Japan  Canada  United Kingdom  \\\n",
       "min                      69.9     80.5    79.5  100.4    75.2            87.4   \n",
       "max                     112.4    109.3   106.8  104.0   112.0           115.6   \n",
       "\n",
       "     Italy  \n",
       "min   71.6  \n",
       "max  108.7  "
      ]
     },
     "execution_count": 32,
     "metadata": {},
     "output_type": "execute_result"
    }
   ],
   "source": [
    "CPI.loc[years, G7].agg([\"min\",\"max\"])"
   ]
  },
  {
   "cell_type": "code",
   "execution_count": 33,
   "metadata": {},
   "outputs": [
    {
     "data": {
      "text/html": [
       "<div>\n",
       "<style scoped>\n",
       "    .dataframe tbody tr th:only-of-type {\n",
       "        vertical-align: middle;\n",
       "    }\n",
       "\n",
       "    .dataframe tbody tr th {\n",
       "        vertical-align: top;\n",
       "    }\n",
       "\n",
       "    .dataframe thead th {\n",
       "        text-align: right;\n",
       "    }\n",
       "</style>\n",
       "<table border=\"1\" class=\"dataframe\">\n",
       "  <thead>\n",
       "    <tr style=\"text-align: right;\">\n",
       "      <th></th>\n",
       "      <th>Brazil</th>\n",
       "      <th>Russian Federation</th>\n",
       "      <th>India</th>\n",
       "      <th>China</th>\n",
       "      <th>South Africa</th>\n",
       "    </tr>\n",
       "  </thead>\n",
       "  <tbody>\n",
       "    <tr>\n",
       "      <th>min</th>\n",
       "      <td>36.6</td>\n",
       "      <td>6.3</td>\n",
       "      <td>37.6</td>\n",
       "      <td>113.2000</td>\n",
       "      <td>43.4</td>\n",
       "    </tr>\n",
       "    <tr>\n",
       "      <th>max</th>\n",
       "      <td>155.7</td>\n",
       "      <td>168.2</td>\n",
       "      <td>160.1</td>\n",
       "      <td>119.0364</td>\n",
       "      <td>146.1</td>\n",
       "    </tr>\n",
       "  </tbody>\n",
       "</table>\n",
       "</div>"
      ],
      "text/plain": [
       "     Brazil  Russian Federation  India     China  South Africa\n",
       "min    36.6                 6.3   37.6  113.2000          43.4\n",
       "max   155.7               168.2  160.1  119.0364         146.1"
      ]
     },
     "execution_count": 33,
     "metadata": {},
     "output_type": "execute_result"
    }
   ],
   "source": [
    "CPI.loc[years, BRICS].agg([\"min\",\"max\"])"
   ]
  },
  {
   "cell_type": "code",
   "execution_count": 34,
   "metadata": {
    "scrolled": true
   },
   "outputs": [],
   "source": [
    "# adding categorical label for response variable:\n",
    "df1[\"CPI_Level\"] = [4 if var > 150 else 3 if var > 120 else 2 if var > 80 else 1 for var in df1[\"CPI\"]]\n",
    "df2[\"CPI_Level\"] = [4 if var > 150 else 3 if var > 120 else 2 if var > 80 else 1 for var in df2[\"CPI\"]]"
   ]
  },
  {
   "cell_type": "code",
   "execution_count": 35,
   "metadata": {
    "scrolled": true
   },
   "outputs": [
    {
     "data": {
      "text/html": [
       "<div>\n",
       "<style scoped>\n",
       "    .dataframe tbody tr th:only-of-type {\n",
       "        vertical-align: middle;\n",
       "    }\n",
       "\n",
       "    .dataframe tbody tr th {\n",
       "        vertical-align: top;\n",
       "    }\n",
       "\n",
       "    .dataframe thead th {\n",
       "        text-align: right;\n",
       "    }\n",
       "</style>\n",
       "<table border=\"1\" class=\"dataframe\">\n",
       "  <thead>\n",
       "    <tr style=\"text-align: right;\">\n",
       "      <th></th>\n",
       "      <th>Year</th>\n",
       "      <th>CPI</th>\n",
       "      <th>GDP</th>\n",
       "      <th>Energy</th>\n",
       "      <th>Tech</th>\n",
       "      <th>Education</th>\n",
       "      <th>Rates</th>\n",
       "      <th>Internet</th>\n",
       "      <th>Tourism</th>\n",
       "      <th>Health</th>\n",
       "      <th>Country</th>\n",
       "      <th>Country_code</th>\n",
       "      <th>CPI_Level</th>\n",
       "    </tr>\n",
       "  </thead>\n",
       "  <tbody>\n",
       "    <tr>\n",
       "      <th>0</th>\n",
       "      <td>1995</td>\n",
       "      <td>36.6</td>\n",
       "      <td>4794.0</td>\n",
       "      <td>5038.0</td>\n",
       "      <td>1.0</td>\n",
       "      <td>11.3</td>\n",
       "      <td>0.9</td>\n",
       "      <td>21.0</td>\n",
       "      <td>1085.0</td>\n",
       "      <td>8.0</td>\n",
       "      <td>Brazil</td>\n",
       "      <td>8</td>\n",
       "      <td>1</td>\n",
       "    </tr>\n",
       "    <tr>\n",
       "      <th>1</th>\n",
       "      <td>2005</td>\n",
       "      <td>79.5</td>\n",
       "      <td>4770.0</td>\n",
       "      <td>8344.0</td>\n",
       "      <td>1.0</td>\n",
       "      <td>11.3</td>\n",
       "      <td>2.4</td>\n",
       "      <td>21.0</td>\n",
       "      <td>4168.0</td>\n",
       "      <td>8.0</td>\n",
       "      <td>Brazil</td>\n",
       "      <td>8</td>\n",
       "      <td>1</td>\n",
       "    </tr>\n",
       "    <tr>\n",
       "      <th>2</th>\n",
       "      <td>2014</td>\n",
       "      <td>126.9</td>\n",
       "      <td>4770.0</td>\n",
       "      <td>10965.0</td>\n",
       "      <td>1.0</td>\n",
       "      <td>15.7</td>\n",
       "      <td>2.4</td>\n",
       "      <td>54.6</td>\n",
       "      <td>4168.0</td>\n",
       "      <td>8.4</td>\n",
       "      <td>Brazil</td>\n",
       "      <td>8</td>\n",
       "      <td>3</td>\n",
       "    </tr>\n",
       "    <tr>\n",
       "      <th>3</th>\n",
       "      <td>2015</td>\n",
       "      <td>138.4</td>\n",
       "      <td>8750.0</td>\n",
       "      <td>11842.0</td>\n",
       "      <td>1.3</td>\n",
       "      <td>15.7</td>\n",
       "      <td>3.3</td>\n",
       "      <td>58.3</td>\n",
       "      <td>6254.0</td>\n",
       "      <td>8.9</td>\n",
       "      <td>Brazil</td>\n",
       "      <td>8</td>\n",
       "      <td>3</td>\n",
       "    </tr>\n",
       "    <tr>\n",
       "      <th>4</th>\n",
       "      <td>2016</td>\n",
       "      <td>150.4</td>\n",
       "      <td>8634.0</td>\n",
       "      <td>12183.0</td>\n",
       "      <td>1.3</td>\n",
       "      <td>15.7</td>\n",
       "      <td>3.5</td>\n",
       "      <td>60.9</td>\n",
       "      <td>6613.0</td>\n",
       "      <td>8.9</td>\n",
       "      <td>Brazil</td>\n",
       "      <td>8</td>\n",
       "      <td>4</td>\n",
       "    </tr>\n",
       "  </tbody>\n",
       "</table>\n",
       "</div>"
      ],
      "text/plain": [
       "   Year    CPI     GDP   Energy  Tech  Education  Rates  Internet  Tourism  \\\n",
       "0  1995   36.6  4794.0   5038.0   1.0       11.3    0.9      21.0   1085.0   \n",
       "1  2005   79.5  4770.0   8344.0   1.0       11.3    2.4      21.0   4168.0   \n",
       "2  2014  126.9  4770.0  10965.0   1.0       15.7    2.4      54.6   4168.0   \n",
       "3  2015  138.4  8750.0  11842.0   1.3       15.7    3.3      58.3   6254.0   \n",
       "4  2016  150.4  8634.0  12183.0   1.3       15.7    3.5      60.9   6613.0   \n",
       "\n",
       "   Health Country  Country_code  CPI_Level  \n",
       "0     8.0  Brazil             8          1  \n",
       "1     8.0  Brazil             8          1  \n",
       "2     8.4  Brazil             8          3  \n",
       "3     8.9  Brazil             8          3  \n",
       "4     8.9  Brazil             8          4  "
      ]
     },
     "execution_count": 35,
     "metadata": {},
     "output_type": "execute_result"
    }
   ],
   "source": [
    "# reset the index of dataframes and create a column of years:\n",
    "df1.reset_index(inplace = True)\n",
    "df2.reset_index(inplace = True)\n",
    "df2.head()"
   ]
  },
  {
   "cell_type": "code",
   "execution_count": 36,
   "metadata": {},
   "outputs": [
    {
     "name": "stdout",
     "output_type": "stream",
     "text": [
      "Dimension before removing one missing obseration: (42, 13)\n",
      "Dimension after removing one missing obseration: (41, 13)\n"
     ]
    }
   ],
   "source": [
    "# drop one entry in United Kingdom where CPI is missing:\n",
    "print(\"Dimension before removing one missing obseration:\", df1.shape)\n",
    "df1.drop([31], inplace = True)\n",
    "df1.reset_index(inplace = True)\n",
    "df1.drop(\"index\", axis = 1, inplace = True)\n",
    "print(\"Dimension after removing one missing obseration:\", df1.shape)"
   ]
  },
  {
   "cell_type": "code",
   "execution_count": 37,
   "metadata": {
    "scrolled": true
   },
   "outputs": [
    {
     "name": "stdout",
     "output_type": "stream",
     "text": [
      "Dimension before removing two missing obseration: (30, 13)\n",
      "Dimension before removing two missing obserations: (28, 13)\n"
     ]
    }
   ],
   "source": [
    "# remove two entries where CPI of China are missing:\n",
    "print(\"Dimension before removing two missing obseration:\", df2.shape)\n",
    "df2.drop([18, 19], inplace = True)\n",
    "df2.reset_index(inplace = True)\n",
    "df2.drop(\"index\", axis = 1, inplace = True)\n",
    "print(\"Dimension before removing two missing obserations:\", df2.shape)"
   ]
  },
  {
   "cell_type": "code",
   "execution_count": 38,
   "metadata": {
    "scrolled": true
   },
   "outputs": [
    {
     "data": {
      "image/png": "[encoded data removed]",
      "text/plain": [
       "<Figure size 1620x180 with 9 Axes>"
      ]
     },
     "metadata": {
      "needs_background": "light"
     },
     "output_type": "display_data"
    }
   ],
   "source": [
    "sns.pairplot(data = df1, y_vars = ['CPI'], x_vars = ['Year', 'GDP', 'Energy', 'Tech', 'Education', 'Rates', 'Internet', 'Tourism', 'Health'])\n",
    "plt.show()"
   ]
  },
  {
   "cell_type": "markdown",
   "metadata": {},
   "source": [
    "From this set of scatter plots, we observe that:\n",
    "- CPI for G7 countries is positively related to Year, GDP, Rates, Internet and Tourism;\n",
    "- the relation between CPI and variables such as Technology, Education, and Health are not as strong as other variables"
   ]
  },
  {
   "cell_type": "code",
   "execution_count": 39,
   "metadata": {
    "scrolled": true
   },
   "outputs": [
    {
     "data": {
      "image/png": "[encoded data removed]",
      "text/plain": [
       "<Figure size 1620x180 with 9 Axes>"
      ]
     },
     "metadata": {
      "needs_background": "light"
     },
     "output_type": "display_data"
    }
   ],
   "source": [
    "sns.pairplot(data = df2, y_vars = ['CPI'], x_vars = ['Year', 'GDP', 'Energy', 'Tech', 'Education', 'Rates', 'Internet', 'Tourism', 'Health'])\n",
    "plt.show()"
   ]
  },
  {
   "cell_type": "markdown",
   "metadata": {},
   "source": [
    "From this set of scatter plots for BRICS countries, we observe that:\n",
    "- CPI is positively related to Year, GDP, Tech, Rates, Internet and Tourism;\n",
    "- the relation between CPI and variables such as Energy, Education, and Health is not as strong."
   ]
  },
  {
   "cell_type": "markdown",
   "metadata": {},
   "source": [
    "### Description for variables selected:\n",
    "\n",
    "- CPI: Consumer price index (General)\n",
    "- GDP: GDP per capita (US dollars)\n",
    "- Energy: Primary energy production (petajoules)\n",
    "- Tech: Gross domestic expenditure on R & D: as a percentage of GDP (%)\n",
    "- Education: Public expenditure on education (% of government expenditure)\n",
    "- Rates: Exchange rates: period average (national currency per US dollar)\n",
    "- Internet: Percentage of individuals using the interne\n",
    "- Tourism: Tourism expenditure (millions of US dollars)\n",
    "- Health: Current health expenditure (% of GDP)\n",
    "\n",
    "New created variables:\n",
    "- Country: name of each country in G7 and BRICS\n",
    "- Country_code: 1 - 7 for G7 countries, 8 - 12 for BRICS countries\n",
    "- CPI_level: 1 - 4 based on CPI value:\n",
    "    - CPI > 150: high CPI (class 4)\n",
    "    - 120 < CPI <= 150: medium CPI (class 3)\n",
    "    - 80 <= CPI <= 120: stable CPI (class 2)\n",
    "    - CPI <= 80: low CPI (class 1)\n",
    "  "
   ]
  },
  {
   "cell_type": "markdown",
   "metadata": {},
   "source": [
    "## 5. Data Modeling:\n",
    "\n",
    "### Predictor variables:\n",
    "- Year: categorical \n",
    "    - 6 levels: 1995, 2005, 2014, 2015, 2016, 2017\n",
    "- Country_code: \n",
    "    - 7 levels for G7 (1 to 7)\n",
    "    - 5 levels for BRICS (8 to 12)\n",
    "- GDP: numeric\n",
    "- Energy: numeric\n",
    "- Tech: numeric\n",
    "- Education: numeric\n",
    "- Rates: numeric\n",
    "- Internet: numeric\n",
    "- Tourism: numeric\n",
    "- Health: numeric\n",
    "- Group (used in multiple linear regression only): categorical\n",
    "    - 1 if the country is one of G7\n",
    "    - 2 if the country is one of BRICS\n",
    "\n",
    "### Response variable:\n",
    "\n",
    "In part I: CPI_level \n",
    "- categorical variable with 4 categories (1, 2, 3, and 4)\n",
    "  - CPI > 150: high CPI (class 4)\n",
    "  - 120 < CPI <= 150: medium CPI (class 3)\n",
    "  - 80 <= CPI <= 120: stable CPI (class 2)\n",
    "  - CPI <= 80: low CPI (class 1)\n",
    "  \n",
    "In part II: CPI\n",
    "- numeric value of CPI\n",
    "\n",
    "### Structure:\n",
    "#### Part I: predcition on CPI_level (categorical):\n",
    "  \n",
    "(1) G7 countries modeling:\n",
    "  - KNN classifier\n",
    "  - Naive Bayes classifier\n",
    "  \n",
    "(2) BRICS countires modeling:\n",
    "  - KNN classifier\n",
    "  - Naive Bayes classifier\n",
    "  \n",
    "(3) G7 and BRICS combined:\n",
    "  - KNN classifier\n",
    "  - Naive Bayes classifier\n",
    "\n",
    "#### Part II: prediction on CPI (numeric):\n",
    "\n",
    "Multiple regression models on:\n",
    "- G7 countries\n",
    "- BRICS countries\n",
    "- G7 and BRICS combined\n"
   ]
  },
  {
   "cell_type": "code",
   "execution_count": 40,
   "metadata": {},
   "outputs": [],
   "source": [
    "from sklearn.model_selection import train_test_split, cross_val_score\n",
    "from sklearn.neighbors import KNeighborsClassifier\n",
    "from sklearn.naive_bayes import GaussianNB\n",
    "from sklearn.metrics import confusion_matrix\n",
    "from sklearn.model_selection import GridSearchCV\n",
    "from sklearn import linear_model, preprocessing, model_selection"
   ]
  },
  {
   "cell_type": "code",
   "execution_count": 41,
   "metadata": {},
   "outputs": [],
   "source": [
    "# handling warning messages:\n",
    "import warnings\n",
    "warnings.filterwarnings('ignore')"
   ]
  },
  {
   "cell_type": "markdown",
   "metadata": {},
   "source": [
    "## Part I: predicting CPI as categorical variables:\n"
   ]
  },
  {
   "cell_type": "markdown",
   "metadata": {},
   "source": [
    "### Transform categorical variable using OneHotEncoder:"
   ]
  },
  {
   "cell_type": "code",
   "execution_count": 42,
   "metadata": {},
   "outputs": [],
   "source": [
    "from sklearn.preprocessing import OneHotEncoder"
   ]
  },
  {
   "cell_type": "code",
   "execution_count": 43,
   "metadata": {},
   "outputs": [],
   "source": [
    "encode = OneHotEncoder(sparse = False)"
   ]
  },
  {
   "cell_type": "code",
   "execution_count": 44,
   "metadata": {
    "scrolled": false
   },
   "outputs": [
    {
     "name": "stdout",
     "output_type": "stream",
     "text": [
      "Index(['Year', 'CPI', 'GDP', 'Energy', 'Tech', 'Education', 'Rates',\n",
      "       'Internet', 'Tourism', 'Health', 'Country', 'Country_code', 'CPI_Level',\n",
      "       'United States of America', 'Germany', 'France', 'Japan', 'Canada',\n",
      "       'United Kingdom', 'Italy'],\n",
      "      dtype='object')\n",
      "Index(['Year', 'CPI', 'GDP', 'Energy', 'Tech', 'Education', 'Rates',\n",
      "       'Internet', 'Tourism', 'Health', 'Country', 'Country_code', 'CPI_Level',\n",
      "       'Brazil', 'Russian Federation', 'India', 'China', 'South Africa'],\n",
      "      dtype='object')\n"
     ]
    }
   ],
   "source": [
    "df1 = pd.concat([df1, pd.DataFrame(encode.fit_transform(df1[[\"Country_code\"]]), columns = G7)], axis = 1)\n",
    "df2 = pd.concat([df2, pd.DataFrame(encode.fit_transform(df2[[\"Country_code\"]]), columns = BRICS)], axis = 1)\n",
    "print(df1.columns)\n",
    "print(df2.columns)"
   ]
  },
  {
   "cell_type": "markdown",
   "metadata": {},
   "source": [
    "### Cross Validation sets:"
   ]
  },
  {
   "cell_type": "code",
   "execution_count": 45,
   "metadata": {
    "scrolled": false
   },
   "outputs": [
    {
     "name": "stdout",
     "output_type": "stream",
     "text": [
      "training and testing sets for G7 countries:\n",
      "(32, 16)\n",
      "(9, 16)\n",
      "(41, 16)\n",
      "training and testing sets for BRICS countries:\n",
      "(22, 14)\n",
      "(6, 14)\n",
      "(28, 14)\n"
     ]
    }
   ],
   "source": [
    "x1 = df1.iloc[:, [0,2,3,4,5,6,7,8,9,13,14,15,16,17,18,19]].astype(float)\n",
    "y1 = df1.iloc[:, 12]\n",
    "x2 = df2.iloc[:, [0,2,3,4,5,6,7,8,9,13,14,15,16,17]].astype(float)\n",
    "y2 = df2.iloc[:, 12]\n",
    "\n",
    "x1_train, x1_test, y1_train, y1_test = train_test_split(x1, y1, test_size = 0.2, random_state = 1, stratify = df1.Country_code)\n",
    "print(\"training and testing sets for G7 countries:\")\n",
    "print((x1_train).shape)\n",
    "print((x1_test).shape)\n",
    "print(x1.shape)\n",
    "\n",
    "x2_train, x2_test, y2_train, y2_test = train_test_split(x2, y2, test_size = 0.2, random_state = 1, stratify = df2.Country_code)\n",
    "print(\"training and testing sets for BRICS countries:\")\n",
    "print((x2_train).shape)\n",
    "print((x2_test).shape)\n",
    "print(x2.shape)"
   ]
  },
  {
   "cell_type": "markdown",
   "metadata": {},
   "source": [
    "### (1) G7 countries"
   ]
  },
  {
   "cell_type": "markdown",
   "metadata": {},
   "source": [
    "### (a) KNN classifier:"
   ]
  },
  {
   "cell_type": "code",
   "execution_count": 46,
   "metadata": {
    "scrolled": true
   },
   "outputs": [
    {
     "name": "stdout",
     "output_type": "stream",
     "text": [
      "predicted:  [2 2 2 2 2 2 2 2 2]\n",
      "actual:  [2 2 2 2 2 2 2 2 2]\n"
     ]
    },
    {
     "data": {
      "text/plain": [
       "array([[9]])"
      ]
     },
     "execution_count": 46,
     "metadata": {},
     "output_type": "execute_result"
    }
   ],
   "source": [
    "knn = KNeighborsClassifier()\n",
    "knn.fit(x1_train, y1_train)\n",
    "prediction = knn.predict(x1_test)\n",
    "print(\"predicted: \", prediction)\n",
    "print(\"actual: \", y1_test.values)\n",
    "confusion_matrix(y1_test, prediction)"
   ]
  },
  {
   "cell_type": "markdown",
   "metadata": {},
   "source": [
    "### Paramter search using GridSearchCV:"
   ]
  },
  {
   "cell_type": "code",
   "execution_count": 47,
   "metadata": {
    "scrolled": true
   },
   "outputs": [
    {
     "name": "stdout",
     "output_type": "stream",
     "text": [
      "1\n",
      "0.90625\n",
      "predicted:  [2 2 2 2 2 2 1 2 2]\n",
      "actual:  [2 2 2 2 2 2 2 2 2]\n"
     ]
    },
    {
     "data": {
      "text/plain": [
       "array([[0, 0],\n",
       "       [1, 8]])"
      ]
     },
     "execution_count": 47,
     "metadata": {},
     "output_type": "execute_result"
    }
   ],
   "source": [
    "grids = {'n_neighbors': np.arange(1, 10), 'weights': ['uniform','distance']}\n",
    "knn_grid = KNeighborsClassifier()\n",
    "knn_grid = GridSearchCV(knn_grid, grids, cv = 5)\n",
    "knn_grid.fit(x1_train, y1_train)\n",
    "\n",
    "n = knn_grid.best_params_['n_neighbors']\n",
    "knn = KNeighborsClassifier(n_neighbors = n)\n",
    "print(n)\n",
    "print(knn_grid.best_score_ )\n",
    "\n",
    "knn.fit(x1_train, y1_train)\n",
    "prediction = knn.predict(x1_test)\n",
    "print(\"predicted: \", prediction)\n",
    "print(\"actual: \", y1_test.values)\n",
    "confusion_matrix(y1_test, prediction)"
   ]
  },
  {
   "cell_type": "markdown",
   "metadata": {},
   "source": [
    "### (b) Naive Bayes Classifier:"
   ]
  },
  {
   "cell_type": "code",
   "execution_count": 48,
   "metadata": {
    "scrolled": false
   },
   "outputs": [
    {
     "name": "stdout",
     "output_type": "stream",
     "text": [
      "predicted:  [2 2 2 2 2 2 1 2 2]\n",
      "actual:  [2 2 2 2 2 2 2 2 2]\n"
     ]
    },
    {
     "data": {
      "text/plain": [
       "array([[0, 0],\n",
       "       [1, 8]])"
      ]
     },
     "execution_count": 48,
     "metadata": {},
     "output_type": "execute_result"
    }
   ],
   "source": [
    "naiveBayes = GaussianNB()\n",
    "naiveBayes.fit(x1_train, y1_train)\n",
    "print(\"predicted: \", naiveBayes.predict(x1_test))\n",
    "print(\"actual: \", y1_test.values)\n",
    "confusion_matrix(y1_test, naiveBayes.predict(x1_test))"
   ]
  },
  {
   "cell_type": "markdown",
   "metadata": {},
   "source": [
    "### (2) BRICS countires"
   ]
  },
  {
   "cell_type": "markdown",
   "metadata": {},
   "source": [
    "### (a) KNN classifier:"
   ]
  },
  {
   "cell_type": "code",
   "execution_count": 49,
   "metadata": {
    "scrolled": false
   },
   "outputs": [
    {
     "name": "stdout",
     "output_type": "stream",
     "text": [
      "predicted:  [3 2 3 3 3 1]\n",
      "actual:  [3 2 4 1 1 1]\n"
     ]
    },
    {
     "data": {
      "text/plain": [
       "array([[1, 0, 2, 0],\n",
       "       [0, 1, 0, 0],\n",
       "       [0, 0, 1, 0],\n",
       "       [0, 0, 1, 0]])"
      ]
     },
     "execution_count": 49,
     "metadata": {},
     "output_type": "execute_result"
    }
   ],
   "source": [
    "knn = KNeighborsClassifier()\n",
    "knn.fit(x2_train, y2_train)\n",
    "prediction = knn.predict(x2_test)\n",
    "print(\"predicted: \", prediction)\n",
    "print(\"actual: \", y2_test.values)\n",
    "confusion_matrix(y2_test, prediction)"
   ]
  },
  {
   "cell_type": "markdown",
   "metadata": {},
   "source": [
    "### Paramter search using GridSearchCV:"
   ]
  },
  {
   "cell_type": "code",
   "execution_count": 50,
   "metadata": {
    "scrolled": true
   },
   "outputs": [
    {
     "name": "stdout",
     "output_type": "stream",
     "text": [
      "1\n",
      "0.6363636363636364\n",
      "predicted:  [3 2 4 4 3 1]\n",
      "actual:  [3 2 4 1 1 1]\n"
     ]
    },
    {
     "data": {
      "text/plain": [
       "array([[1, 0, 1, 1],\n",
       "       [0, 1, 0, 0],\n",
       "       [0, 0, 1, 0],\n",
       "       [0, 0, 0, 1]])"
      ]
     },
     "execution_count": 50,
     "metadata": {},
     "output_type": "execute_result"
    }
   ],
   "source": [
    "grids = {'n_neighbors': np.arange(1, 10), 'weights': ['uniform','distance']}\n",
    "knn_grid = KNeighborsClassifier()\n",
    "knn_grid = GridSearchCV(knn_grid, grids, cv = 5)\n",
    "knn_grid.fit(x2_train, y2_train)\n",
    "print(n)\n",
    "print(knn_grid.best_score_ )\n",
    "\n",
    "n = knn_grid.best_params_['n_neighbors']\n",
    "knn = KNeighborsClassifier(n_neighbors = n)\n",
    "knn.fit(x2_train, y2_train)\n",
    "prediction = knn.predict(x2_test)\n",
    "print(\"predicted: \", prediction)\n",
    "print(\"actual: \", y2_test.values)\n",
    "confusion_matrix(y2_test, prediction)"
   ]
  },
  {
   "cell_type": "markdown",
   "metadata": {},
   "source": [
    "### (b) Naive Bayes Classifier:"
   ]
  },
  {
   "cell_type": "code",
   "execution_count": 51,
   "metadata": {
    "scrolled": true
   },
   "outputs": [
    {
     "name": "stdout",
     "output_type": "stream",
     "text": [
      "predicted:  [3 2 4 1 1 1]\n",
      "actual:  [3 2 4 1 1 1]\n"
     ]
    },
    {
     "data": {
      "text/plain": [
       "array([[3, 0, 0, 0],\n",
       "       [0, 1, 0, 0],\n",
       "       [0, 0, 1, 0],\n",
       "       [0, 0, 0, 1]])"
      ]
     },
     "execution_count": 51,
     "metadata": {},
     "output_type": "execute_result"
    }
   ],
   "source": [
    "naiveBayes = GaussianNB()\n",
    "naiveBayes.fit(x2_train, y2_train)\n",
    "print(\"predicted: \", naiveBayes.predict(x2_test))\n",
    "print(\"actual: \", y2_test.values)\n",
    "confusion_matrix(y2_test, naiveBayes.predict(x2_test))"
   ]
  },
  {
   "cell_type": "markdown",
   "metadata": {},
   "source": [
    "### (3) G7 and BRICS combined:"
   ]
  },
  {
   "cell_type": "markdown",
   "metadata": {},
   "source": [
    "### Cross Validation sets:"
   ]
  },
  {
   "cell_type": "code",
   "execution_count": 52,
   "metadata": {
    "scrolled": false
   },
   "outputs": [
    {
     "name": "stdout",
     "output_type": "stream",
     "text": [
      "training and testing sets for two datasets combined:\n",
      "(55, 23)\n",
      "(14, 23)\n",
      "(69, 23)\n"
     ]
    }
   ],
   "source": [
    "x1 = df1.iloc[:, [0,2,3,4,5,6,7,8,9,11]].astype(float)\n",
    "y1 = df1.iloc[:, 12]\n",
    "x2 = df2.iloc[:, [0,2,3,4,5,6,7,8,9,11]].astype(float)\n",
    "y2 = df2.iloc[:, 12]\n",
    "\n",
    "x = pd.concat([x1, x2])\n",
    "y = pd.concat([y1, y2])\n",
    "\n",
    "x.reset_index(inplace = True)\n",
    "x = pd.concat([x, pd.DataFrame(encode.fit_transform(x[[\"Country_code\"]]), columns = G7 + BRICS)], axis = 1)\n",
    "\n",
    "x_train, x_test, y_train, y_test = train_test_split(x, y, test_size = 0.2, random_state = 1, stratify = x.Country_code)\n",
    "print(\"training and testing sets for two datasets combined:\")\n",
    "print((x_train).shape)\n",
    "print((x_test).shape)\n",
    "print(x.shape)"
   ]
  },
  {
   "cell_type": "markdown",
   "metadata": {},
   "source": [
    "### (a) KNN classifier:"
   ]
  },
  {
   "cell_type": "code",
   "execution_count": 53,
   "metadata": {
    "scrolled": true
   },
   "outputs": [
    {
     "name": "stdout",
     "output_type": "stream",
     "text": [
      "predicted:  [4 2 2 2 3 2 2 2 3 1 2 2 4 2]\n",
      "actual:  [1 2 2 2 3 2 2 2 3 1 2 2 3 2]\n"
     ]
    },
    {
     "data": {
      "text/plain": [
       "array([[1, 0, 0, 1],\n",
       "       [0, 9, 0, 0],\n",
       "       [0, 0, 2, 1],\n",
       "       [0, 0, 0, 0]])"
      ]
     },
     "execution_count": 53,
     "metadata": {},
     "output_type": "execute_result"
    }
   ],
   "source": [
    "knn = KNeighborsClassifier()\n",
    "knn.fit(x_train, y_train)\n",
    "prediction = knn.predict(x_test)\n",
    "print(\"predicted: \", prediction)\n",
    "print(\"actual: \", y_test.values)\n",
    "confusion_matrix(y_test, prediction)"
   ]
  },
  {
   "cell_type": "markdown",
   "metadata": {},
   "source": [
    "### Paramter search using GridSearchCV:"
   ]
  },
  {
   "cell_type": "code",
   "execution_count": 54,
   "metadata": {
    "scrolled": false
   },
   "outputs": [
    {
     "name": "stdout",
     "output_type": "stream",
     "text": [
      "1\n",
      "0.8363636363636363\n",
      "predicted:  [3 2 2 1 3 2 2 2 4 1 2 2 4 2]\n",
      "actual:  [1 2 2 2 3 2 2 2 3 1 2 2 3 2]\n"
     ]
    },
    {
     "data": {
      "text/plain": [
       "array([[1, 0, 1, 0],\n",
       "       [1, 8, 0, 0],\n",
       "       [0, 0, 1, 2],\n",
       "       [0, 0, 0, 0]])"
      ]
     },
     "execution_count": 54,
     "metadata": {},
     "output_type": "execute_result"
    }
   ],
   "source": [
    "grids = {'n_neighbors': np.arange(1, 10), 'weights': ['uniform','distance']}\n",
    "knn_grid = KNeighborsClassifier()\n",
    "knn_grid = GridSearchCV(knn_grid, grids, cv = 5)\n",
    "knn_grid.fit(x_train, y_train)\n",
    "\n",
    "n = knn_grid.best_params_['n_neighbors']\n",
    "print(n)\n",
    "print(knn_grid.best_score_ )\n",
    "\n",
    "knn = KNeighborsClassifier(n_neighbors = n)\n",
    "knn.fit(x_train, y_train)\n",
    "prediction = knn.predict(x_test)\n",
    "print(\"predicted: \", prediction)\n",
    "print(\"actual: \", y_test.values)\n",
    "confusion_matrix(y_test, prediction)"
   ]
  },
  {
   "cell_type": "markdown",
   "metadata": {},
   "source": [
    "### (b) Naive Bayes Classifier:"
   ]
  },
  {
   "cell_type": "code",
   "execution_count": 55,
   "metadata": {
    "scrolled": false
   },
   "outputs": [
    {
     "name": "stdout",
     "output_type": "stream",
     "text": [
      "predicted:  [1 2 2 1 3 1 2 2 3 1 2 2 4 2]\n",
      "actual:  [1 2 2 2 3 2 2 2 3 1 2 2 3 2]\n"
     ]
    },
    {
     "data": {
      "text/plain": [
       "array([[2, 0, 0, 0],\n",
       "       [2, 7, 0, 0],\n",
       "       [0, 0, 2, 1],\n",
       "       [0, 0, 0, 0]])"
      ]
     },
     "execution_count": 55,
     "metadata": {},
     "output_type": "execute_result"
    }
   ],
   "source": [
    "naiveBayes = GaussianNB()\n",
    "naiveBayes.fit(x_train, y_train)\n",
    "print(\"predicted: \", naiveBayes.predict(x_test))\n",
    "print(\"actual: \", y_test.values)\n",
    "(confusion_matrix(y_test, naiveBayes.predict(x_test)))"
   ]
  },
  {
   "cell_type": "markdown",
   "metadata": {},
   "source": [
    "### Part II: predicting CPI as a numeric variable\n",
    "### Cross Validation sets:"
   ]
  },
  {
   "cell_type": "code",
   "execution_count": 56,
   "metadata": {
    "scrolled": false
   },
   "outputs": [
    {
     "name": "stdout",
     "output_type": "stream",
     "text": [
      "training and testing sets for two datasets combined:\n",
      "(55, 25)\n",
      "(14, 25)\n",
      "(69, 25)\n",
      "training and testing sets for two datasets combined (without tranforming country_code):\n",
      "(55, 13)\n",
      "(14, 13)\n",
      "(69, 13)\n"
     ]
    }
   ],
   "source": [
    "# treat country_code as categorical variable:\n",
    "x1 = df1.iloc[:, [0,2,3,4,5,6,7,8,9,11]]\n",
    "y1 = df1.iloc[:, 1]\n",
    "x2 = df2.iloc[:, [0,2,3,4,5,6,7,8,9,11]]\n",
    "y2 = df2.iloc[:, 1]\n",
    "\n",
    "x1_train, x1_test, y1_train, y1_test = train_test_split(x1, y1, test_size = 0.2, random_state = 1, stratify = x1.Country_code)\n",
    "x2_train, x2_test, y2_train, y2_test = train_test_split(x2, y2, test_size = 0.2, random_state = 1, stratify = x2.Country_code)\n",
    "\n",
    "x1[\"Group\"] = 1\n",
    "x2[\"Group\"] = 2\n",
    "x = pd.concat([x1, x2])\n",
    "y = pd.concat([y1, y2])\n",
    "\n",
    "x.reset_index(inplace = True)\n",
    "x.drop(\"index\", axis = 1, inplace = True)\n",
    "x = pd.concat([x, pd.DataFrame(encode.fit_transform(x[[\"Group\"]]), columns = [\"G7\", \"BRICS\"])], axis = 1)\n",
    "x_origin = x.copy()\n",
    "x = pd.concat([x, pd.DataFrame(encode.fit_transform(x[[\"Country_code\"]]), columns = G7 + BRICS)], axis = 1)\n",
    "\n",
    "# for MLR modeling:\n",
    "df = pd.concat([x, y.reset_index().iloc[:, 1]], axis = 1)\n",
    "\n",
    "x_train, x_test, y_train, y_test = train_test_split(x, y, test_size = 0.2, random_state = 1, stratify = x.Country_code)\n",
    "print(\"training and testing sets for two datasets combined:\")\n",
    "print((x_train).shape)\n",
    "print((x_test).shape)\n",
    "print(x.shape)\n",
    "\n",
    "# for future predictions (with country_code):\n",
    "x_train_code, x_test_code, y_train_code, y_test_code = train_test_split(x_origin, y, test_size = 0.2, random_state = 1, stratify = x.Country_code)\n",
    "print(\"training and testing sets for two datasets combined (without tranforming country_code):\")\n",
    "print((x_train_code).shape)\n",
    "print((x_test_code).shape)\n",
    "print(x_origin.shape)"
   ]
  },
  {
   "cell_type": "markdown",
   "metadata": {},
   "source": [
    "### Multiple linear regression model for G7:"
   ]
  },
  {
   "cell_type": "code",
   "execution_count": 57,
   "metadata": {},
   "outputs": [
    {
     "data": {
      "text/plain": [
       "0.9405663946292445"
      ]
     },
     "execution_count": 57,
     "metadata": {},
     "output_type": "execute_result"
    }
   ],
   "source": [
    "linear1 = linear_model.LinearRegression()\n",
    "linear1.fit(x1_train, y1_train)\n",
    "linear1.score(x1_train, y1_train)"
   ]
  },
  {
   "cell_type": "markdown",
   "metadata": {},
   "source": [
    "### Multiple linear regression model for BRICS:"
   ]
  },
  {
   "cell_type": "code",
   "execution_count": 58,
   "metadata": {},
   "outputs": [
    {
     "data": {
      "text/plain": [
       "0.9785759999453596"
      ]
     },
     "execution_count": 58,
     "metadata": {},
     "output_type": "execute_result"
    }
   ],
   "source": [
    "linear2 = linear_model.LinearRegression()\n",
    "linear2.fit(x2_train, y2_train)\n",
    "linear2.score(x2_train, y2_train)"
   ]
  },
  {
   "cell_type": "markdown",
   "metadata": {},
   "source": [
    "### Multiple linear regression model for G7 and BRICS combined:"
   ]
  },
  {
   "cell_type": "code",
   "execution_count": 59,
   "metadata": {},
   "outputs": [
    {
     "data": {
      "text/plain": [
       "0.9499624531788377"
      ]
     },
     "execution_count": 59,
     "metadata": {},
     "output_type": "execute_result"
    }
   ],
   "source": [
    "x_train = x_train.drop(\"Country_code\", axis = 1)\n",
    "linear = linear_model.LinearRegression()\n",
    "linear.fit(x_train, y_train)\n",
    "linear.score(x_train, y_train)"
   ]
  },
  {
   "cell_type": "markdown",
   "metadata": {},
   "source": [
    "### Multiple linear regression without country_code:"
   ]
  },
  {
   "cell_type": "code",
   "execution_count": 60,
   "metadata": {},
   "outputs": [
    {
     "data": {
      "text/plain": [
       "0.811592642578938"
      ]
     },
     "execution_count": 60,
     "metadata": {},
     "output_type": "execute_result"
    }
   ],
   "source": [
    "linear_s = linear_model.LinearRegression()\n",
    "linear_s.fit(x_train_code, y_train_code)\n",
    "linear_s.score(x_train_code, y_train_code)"
   ]
  },
  {
   "cell_type": "markdown",
   "metadata": {},
   "source": [
    "### Cross Validation on linear model:"
   ]
  },
  {
   "cell_type": "code",
   "execution_count": 61,
   "metadata": {},
   "outputs": [
    {
     "name": "stdout",
     "output_type": "stream",
     "text": [
      "[0.84326276 0.81425951 0.75439588]\n",
      "0.80397271519782\n"
     ]
    }
   ],
   "source": [
    "cv = model_selection.ShuffleSplit(n_splits = 3, test_size = 0.2, random_state = 0)\n",
    "cv_linear = model_selection.cross_val_score(linear1, x1, y1, cv = cv)\n",
    "print(cv_linear)\n",
    "print(np.mean(cv_linear))"
   ]
  },
  {
   "cell_type": "code",
   "execution_count": 62,
   "metadata": {},
   "outputs": [
    {
     "name": "stdout",
     "output_type": "stream",
     "text": [
      "[0.88344879 0.91287006 0.26441176]\n",
      "0.6869102021628186\n"
     ]
    }
   ],
   "source": [
    "cv = model_selection.ShuffleSplit(n_splits = 3, test_size = 0.2, random_state = 0)\n",
    "cv_linear = model_selection.cross_val_score(linear2, x2, y2, cv = cv)\n",
    "print(cv_linear)\n",
    "print(np.mean(cv_linear))"
   ]
  },
  {
   "cell_type": "code",
   "execution_count": 63,
   "metadata": {
    "scrolled": false
   },
   "outputs": [
    {
     "name": "stdout",
     "output_type": "stream",
     "text": [
      "[ 0.82530071  0.82886747 -0.09777121]\n",
      "0.518798990300897\n"
     ]
    }
   ],
   "source": [
    "cv = model_selection.ShuffleSplit(n_splits = 3, test_size = 0.2, random_state = 0)\n",
    "cv_linear = model_selection.cross_val_score(linear, x, y, cv = cv)\n",
    "print(cv_linear)\n",
    "print(np.mean(cv_linear))"
   ]
  },
  {
   "cell_type": "markdown",
   "metadata": {},
   "source": [
    "### Test Statistics from ANOVA:\n",
    "Note: with the issue of overfitting"
   ]
  },
  {
   "cell_type": "code",
   "execution_count": 64,
   "metadata": {},
   "outputs": [],
   "source": [
    "import statsmodels.api as sm\n",
    "import statsmodels.formula.api as smf"
   ]
  },
  {
   "cell_type": "code",
   "execution_count": 65,
   "metadata": {
    "scrolled": true
   },
   "outputs": [
    {
     "name": "stdout",
     "output_type": "stream",
     "text": [
      "                            OLS Regression Results                            \n",
      "==============================================================================\n",
      "Dep. Variable:                    CPI   R-squared:                       0.974\n",
      "Model:                            OLS   Adj. R-squared:                  0.958\n",
      "Method:                 Least Squares   F-statistic:                     62.03\n",
      "Date:                Fri, 31 May 2019   Prob (F-statistic):           5.40e-16\n",
      "Time:                        13:42:45   Log-Likelihood:                -84.711\n",
      "No. Observations:                  41   AIC:                             201.4\n",
      "Df Residuals:                      25   BIC:                             228.8\n",
      "Df Model:                          15                                         \n",
      "Covariance Type:            nonrobust                                         \n",
      "========================================================================================\n",
      "                           coef    std err          t      P>|t|      [0.025      0.975]\n",
      "----------------------------------------------------------------------------------------\n",
      "Intercept            -2380.5701    363.018     -6.558      0.000   -3128.219   -1632.921\n",
      "C(Country_code)[T.2]    46.3845     13.285      3.492      0.002      19.024      73.745\n",
      "C(Country_code)[T.3]    49.2705     15.330      3.214      0.004      17.697      80.844\n",
      "C(Country_code)[T.4]    81.6993     23.506      3.476      0.002      33.287     130.111\n",
      "C(Country_code)[T.5]    32.9886     11.464      2.878      0.008       9.377      56.600\n",
      "C(Country_code)[T.6]    47.4891     13.762      3.451      0.002      19.145      75.833\n",
      "C(Country_code)[T.7]    52.0115     20.063      2.592      0.016      10.691      93.332\n",
      "Year                     1.2078      0.188      6.408      0.000       0.820       1.596\n",
      "GDP                      0.0005      0.000      3.025      0.006       0.000       0.001\n",
      "Energy                   0.0008      0.000      4.789      0.000       0.000       0.001\n",
      "Tech                     1.1443      3.026      0.378      0.709      -5.088       7.377\n",
      "Education                0.3484      1.914      0.182      0.857      -3.593       4.289\n",
      "Rates                   -0.3225      0.188     -1.715      0.099      -0.710       0.065\n",
      "Internet                 0.1026      0.098      1.051      0.303      -0.098       0.304\n",
      "Tourism              -4.088e-05   2.57e-05     -1.593      0.124   -9.37e-05     1.2e-05\n",
      "Health                  -2.7390      0.937     -2.924      0.007      -4.668      -0.809\n",
      "==============================================================================\n",
      "Omnibus:                        1.570   Durbin-Watson:                   2.502\n",
      "Prob(Omnibus):                  0.456   Jarque-Bera (JB):                1.522\n",
      "Skew:                           0.410   Prob(JB):                        0.467\n",
      "Kurtosis:                       2.534   Cond. No.                     8.88e+07\n",
      "==============================================================================\n",
      "\n",
      "Warnings:\n",
      "[1] Standard Errors assume that the covariance matrix of the errors is correctly specified.\n",
      "[2] The condition number is large, 8.88e+07. This might indicate that there are\n",
      "strong multicollinearity or other numerical problems.\n"
     ]
    }
   ],
   "source": [
    "model = smf.ols(\"CPI ~ Year + GDP  + Energy + Tech + Education + Rates + Internet + Tourism + Health + C(Country_code)\", data = df1)\n",
    "results = model.fit()\n",
    "print(results.summary())"
   ]
  },
  {
   "cell_type": "code",
   "execution_count": 66,
   "metadata": {
    "scrolled": true
   },
   "outputs": [
    {
     "name": "stdout",
     "output_type": "stream",
     "text": [
      "                            OLS Regression Results                            \n",
      "==============================================================================\n",
      "Dep. Variable:                    CPI   R-squared:                       0.960\n",
      "Model:                            OLS   Adj. R-squared:                  0.947\n",
      "Method:                 Least Squares   F-statistic:                     71.95\n",
      "Date:                Fri, 31 May 2019   Prob (F-statistic):           3.61e-18\n",
      "Time:                        13:42:45   Log-Likelihood:                -93.425\n",
      "No. Observations:                  41   AIC:                             208.8\n",
      "Df Residuals:                      30   BIC:                             227.7\n",
      "Df Model:                          10                                         \n",
      "Covariance Type:            nonrobust                                         \n",
      "========================================================================================\n",
      "                           coef    std err          t      P>|t|      [0.025      0.975]\n",
      "----------------------------------------------------------------------------------------\n",
      "Intercept            -2583.7889    230.777    -11.196      0.000   -3055.099   -2112.479\n",
      "C(Country_code)[T.2]    36.3432     12.593      2.886      0.007      10.625      62.061\n",
      "C(Country_code)[T.3]    36.3939     12.479      2.916      0.007      10.909      61.879\n",
      "C(Country_code)[T.4]    36.7622     13.309      2.762      0.010       9.581      63.943\n",
      "C(Country_code)[T.5]    24.7729     10.896      2.273      0.030       2.519      47.026\n",
      "C(Country_code)[T.6]    36.3329     12.945      2.807      0.009       9.895      62.771\n",
      "C(Country_code)[T.7]    33.7784     13.635      2.477      0.019       5.933      61.624\n",
      "Year                     1.3265      0.120     11.028      0.000       1.081       1.572\n",
      "GDP                      0.0005      0.000      4.427      0.000       0.000       0.001\n",
      "Energy                   0.0007      0.000      3.987      0.000       0.000       0.001\n",
      "Health                  -3.6939      0.912     -4.052      0.000      -5.556      -1.832\n",
      "==============================================================================\n",
      "Omnibus:                        6.603   Durbin-Watson:                   2.712\n",
      "Prob(Omnibus):                  0.037   Jarque-Bera (JB):                5.364\n",
      "Skew:                           0.707   Prob(JB):                       0.0684\n",
      "Kurtosis:                       4.069   Cond. No.                     2.42e+07\n",
      "==============================================================================\n",
      "\n",
      "Warnings:\n",
      "[1] Standard Errors assume that the covariance matrix of the errors is correctly specified.\n",
      "[2] The condition number is large, 2.42e+07. This might indicate that there are\n",
      "strong multicollinearity or other numerical problems.\n"
     ]
    }
   ],
   "source": [
    "# Final MLR model for G7 countries:\n",
    "model = smf.ols(\"CPI ~ Year + GDP  + Energy + Health + C(Country_code)\", data = df1)\n",
    "results = model.fit()\n",
    "print(results.summary())"
   ]
  },
  {
   "cell_type": "code",
   "execution_count": 67,
   "metadata": {
    "scrolled": true
   },
   "outputs": [
    {
     "name": "stdout",
     "output_type": "stream",
     "text": [
      "                            OLS Regression Results                            \n",
      "==============================================================================\n",
      "Dep. Variable:                    CPI   R-squared:                       0.992\n",
      "Model:                            OLS   Adj. R-squared:                  0.986\n",
      "Method:                 Least Squares   F-statistic:                     154.3\n",
      "Date:                Fri, 31 May 2019   Prob (F-statistic):           1.91e-13\n",
      "Time:                        13:42:45   Log-Likelihood:                -78.305\n",
      "No. Observations:                  28   AIC:                             182.6\n",
      "Df Residuals:                      15   BIC:                             199.9\n",
      "Df Model:                          12                                         \n",
      "Covariance Type:            nonrobust                                         \n",
      "=========================================================================================\n",
      "                            coef    std err          t      P>|t|      [0.025      0.975]\n",
      "-----------------------------------------------------------------------------------------\n",
      "Intercept             -6586.6031    858.978     -7.668      0.000   -8417.471   -4755.735\n",
      "C(Country_code)[T.9]   -145.4794     28.002     -5.195      0.000    -205.165     -85.794\n",
      "C(Country_code)[T.10]   -70.0538     23.602     -2.968      0.010    -120.360     -19.748\n",
      "C(Country_code)[T.11]  -280.5317     78.996     -3.551      0.003    -448.909    -112.155\n",
      "C(Country_code)[T.12]     6.4132     11.911      0.538      0.598     -18.974      31.801\n",
      "Year                      3.3767      0.445      7.588      0.000       2.428       4.325\n",
      "GDP                       0.0009      0.001      0.859      0.404      -0.001       0.003\n",
      "Energy                    0.0019      0.001      2.200      0.044    5.98e-05       0.004\n",
      "Tech                      6.1411     12.006      0.512      0.616     -19.448      31.731\n",
      "Education                -1.6565      1.170     -1.416      0.177      -4.150       0.836\n",
      "Internet                  0.9293      0.175      5.317      0.000       0.557       1.302\n",
      "Tourism                   0.0003      0.000      1.012      0.327      -0.000       0.001\n",
      "Health                  -16.6729      6.918     -2.410      0.029     -31.419      -1.927\n",
      "==============================================================================\n",
      "Omnibus:                        7.792   Durbin-Watson:                   2.349\n",
      "Prob(Omnibus):                  0.020   Jarque-Bera (JB):                6.055\n",
      "Skew:                          -1.071   Prob(JB):                       0.0484\n",
      "Kurtosis:                       3.774   Cond. No.                     4.12e+07\n",
      "==============================================================================\n",
      "\n",
      "Warnings:\n",
      "[1] Standard Errors assume that the covariance matrix of the errors is correctly specified.\n",
      "[2] The condition number is large, 4.12e+07. This might indicate that there are\n",
      "strong multicollinearity or other numerical problems.\n"
     ]
    }
   ],
   "source": [
    "model = smf.ols(\"CPI ~ Year + GDP  + Energy + Tech + Education + Internet + Tourism + Health + C(Country_code)\", data = df2)\n",
    "results = model.fit()\n",
    "print(results.summary())"
   ]
  },
  {
   "cell_type": "code",
   "execution_count": 68,
   "metadata": {
    "scrolled": false
   },
   "outputs": [
    {
     "name": "stdout",
     "output_type": "stream",
     "text": [
      "                            OLS Regression Results                            \n",
      "==============================================================================\n",
      "Dep. Variable:                    CPI   R-squared:                       0.990\n",
      "Model:                            OLS   Adj. R-squared:                  0.986\n",
      "Method:                 Least Squares   F-statistic:                     205.7\n",
      "Date:                Fri, 31 May 2019   Prob (F-statistic):           2.80e-16\n",
      "Time:                        13:42:45   Log-Likelihood:                -80.832\n",
      "No. Observations:                  28   AIC:                             181.7\n",
      "Df Residuals:                      18   BIC:                             195.0\n",
      "Df Model:                           9                                         \n",
      "Covariance Type:            nonrobust                                         \n",
      "=========================================================================================\n",
      "                            coef    std err          t      P>|t|      [0.025      0.975]\n",
      "-----------------------------------------------------------------------------------------\n",
      "Intercept             -6730.8617    734.549     -9.163      0.000   -8274.092   -5187.631\n",
      "C(Country_code)[T.9]   -128.7403     19.532     -6.591      0.000    -169.775     -87.706\n",
      "C(Country_code)[T.10]   -59.8789     23.247     -2.576      0.019    -108.718     -11.040\n",
      "C(Country_code)[T.11]  -215.6060     39.551     -5.451      0.000    -298.699    -132.513\n",
      "C(Country_code)[T.12]    -3.7484      6.632     -0.565      0.579     -17.682      10.185\n",
      "Year                      3.4415      0.376      9.164      0.000       2.653       4.230\n",
      "GDP                       0.2215      0.099      2.242      0.038       0.014       0.429\n",
      "Energy                    0.0016      0.001      2.742      0.013       0.000       0.003\n",
      "Internet                  0.9557      0.170      5.623      0.000       0.599       1.313\n",
      "Health                  -17.8765      6.113     -2.924      0.009     -30.719      -5.034\n",
      "==============================================================================\n",
      "Omnibus:                        9.374   Durbin-Watson:                   2.300\n",
      "Prob(Omnibus):                  0.009   Jarque-Bera (JB):                7.853\n",
      "Skew:                          -1.232   Prob(JB):                       0.0197\n",
      "Kurtosis:                       3.814   Cond. No.                     3.30e+07\n",
      "==============================================================================\n",
      "\n",
      "Warnings:\n",
      "[1] Standard Errors assume that the covariance matrix of the errors is correctly specified.\n",
      "[2] The condition number is large, 3.3e+07. This might indicate that there are\n",
      "strong multicollinearity or other numerical problems.\n"
     ]
    }
   ],
   "source": [
    "# Final MLR model for BRICS:\n",
    "df2.GDP = df2.GDP ** 0.5\n",
    "model = smf.ols(\"CPI ~ Year + GDP + Energy + Internet + Health + C(Country_code)\", data = df2)\n",
    "results = model.fit()\n",
    "print(results.summary())"
   ]
  },
  {
   "cell_type": "code",
   "execution_count": 69,
   "metadata": {
    "scrolled": true
   },
   "outputs": [
    {
     "name": "stdout",
     "output_type": "stream",
     "text": [
      "                            OLS Regression Results                            \n",
      "==============================================================================\n",
      "Dep. Variable:                    CPI   R-squared:                       0.911\n",
      "Model:                            OLS   Adj. R-squared:                  0.876\n",
      "Method:                 Least Squares   F-statistic:                     26.34\n",
      "Date:                Fri, 31 May 2019   Prob (F-statistic):           2.11e-19\n",
      "Time:                        13:42:45   Log-Likelihood:                -249.85\n",
      "No. Observations:                  69   AIC:                             539.7\n",
      "Df Residuals:                      49   BIC:                             584.4\n",
      "Df Model:                          19                                         \n",
      "Covariance Type:            nonrobust                                         \n",
      "=========================================================================================\n",
      "                            coef    std err          t      P>|t|      [0.025      0.975]\n",
      "-----------------------------------------------------------------------------------------\n",
      "Intercept             -3231.3455    864.999     -3.736      0.000   -4969.627   -1493.064\n",
      "C(Group)[T.2]            15.8891     40.173      0.396      0.694     -64.841      96.619\n",
      "C(Country_code)[T.2]    123.8476     44.646      2.774      0.008      34.129     213.566\n",
      "C(Country_code)[T.3]    136.6054     46.414      2.943      0.005      43.333     229.878\n",
      "C(Country_code)[T.4]    119.9816     46.502      2.580      0.013      26.532     213.432\n",
      "C(Country_code)[T.5]     65.3367     42.810      1.526      0.133     -20.693     151.366\n",
      "C(Country_code)[T.6]     86.8018     52.690      1.647      0.106     -19.082     192.686\n",
      "C(Country_code)[T.7]    142.4752     56.167      2.537      0.014      29.604     255.347\n",
      "C(Country_code)[T.8]     99.5995     20.807      4.787      0.000      57.786     141.413\n",
      "C(Country_code)[T.9]    -62.9723      8.401     -7.496      0.000     -79.855     -46.090\n",
      "C(Country_code)[T.10]    48.8000     23.652      2.063      0.044       1.269      96.331\n",
      "C(Country_code)[T.11]  -159.1432     43.042     -3.697      0.001    -245.640     -72.646\n",
      "C(Country_code)[T.12]    89.6051     30.215      2.966      0.005      28.886     150.324\n",
      "Year                      1.6055      0.454      3.537      0.001       0.693       2.518\n",
      "GDP                      -0.0001      0.000     -0.281      0.780      -0.001       0.001\n",
      "Energy                    0.0027      0.001      4.868      0.000       0.002       0.004\n",
      "Tech                     -1.3496      9.336     -0.145      0.886     -20.111      17.412\n",
      "Education                 2.7756      1.998      1.389      0.171      -1.239       6.790\n",
      "Internet                  1.2016      0.178      6.749      0.000       0.844       1.559\n",
      "Tourism               -6.452e-06    9.7e-05     -0.067      0.947      -0.000       0.000\n",
      "Health                  -13.9396      3.347     -4.165      0.000     -20.665      -7.214\n",
      "==============================================================================\n",
      "Omnibus:                        0.080   Durbin-Watson:                   1.641\n",
      "Prob(Omnibus):                  0.961   Jarque-Bera (JB):                0.210\n",
      "Skew:                           0.071   Prob(JB):                        0.900\n",
      "Kurtosis:                       2.771   Cond. No.                     2.51e+17\n",
      "==============================================================================\n",
      "\n",
      "Warnings:\n",
      "[1] Standard Errors assume that the covariance matrix of the errors is correctly specified.\n",
      "[2] The smallest eigenvalue is 6.14e-24. This might indicate that there are\n",
      "strong multicollinearity problems or that the design matrix is singular.\n"
     ]
    }
   ],
   "source": [
    "model = smf.ols(\"CPI ~ Year + GDP  + Energy + Tech + Education + Internet + Tourism + Health + C(Group) + C(Country_code)\", data = df)\n",
    "results = model.fit()\n",
    "print(results.summary())"
   ]
  },
  {
   "cell_type": "code",
   "execution_count": 70,
   "metadata": {},
   "outputs": [],
   "source": [
    "# transformation on GDP for BRICS:\n",
    "df.GDP = df.GDP ** 0.5"
   ]
  },
  {
   "cell_type": "code",
   "execution_count": 71,
   "metadata": {
    "scrolled": true
   },
   "outputs": [
    {
     "name": "stdout",
     "output_type": "stream",
     "text": [
      "                            OLS Regression Results                            \n",
      "==============================================================================\n",
      "Dep. Variable:                    CPI   R-squared:                       0.910\n",
      "Model:                            OLS   Adj. R-squared:                  0.880\n",
      "Method:                 Least Squares   F-statistic:                     30.27\n",
      "Date:                Fri, 31 May 2019   Prob (F-statistic):           9.00e-21\n",
      "Time:                        13:42:45   Log-Likelihood:                -250.23\n",
      "No. Observations:                  69   AIC:                             536.5\n",
      "Df Residuals:                      51   BIC:                             576.7\n",
      "Df Model:                          17                                         \n",
      "Covariance Type:            nonrobust                                         \n",
      "=========================================================================================\n",
      "                            coef    std err          t      P>|t|      [0.025      0.975]\n",
      "-----------------------------------------------------------------------------------------\n",
      "Intercept             -2503.6766    831.666     -3.010      0.004   -4173.316    -834.037\n",
      "C(Group)[T.2]            28.2617     37.919      0.745      0.459     -47.863     104.386\n",
      "C(Country_code)[T.2]    116.2253     42.636      2.726      0.009      30.631     201.820\n",
      "C(Country_code)[T.3]    127.9353     43.953      2.911      0.005      39.697     216.174\n",
      "C(Country_code)[T.4]    107.7949     44.611      2.416      0.019      18.235     197.355\n",
      "C(Country_code)[T.5]     59.8152     41.060      1.457      0.151     -22.616     142.247\n",
      "C(Country_code)[T.6]     83.3700     48.743      1.710      0.093     -14.486     181.226\n",
      "C(Country_code)[T.7]    130.6017     52.881      2.470      0.017      24.440     236.764\n",
      "C(Country_code)[T.8]    108.8645     17.731      6.140      0.000      73.268     144.461\n",
      "C(Country_code)[T.9]    -62.3304      8.314     -7.497      0.000     -79.020     -45.640\n",
      "C(Country_code)[T.10]    55.8243     21.267      2.625      0.011      13.128      98.520\n",
      "C(Country_code)[T.11]  -187.6129     28.547     -6.572      0.000    -244.924    -130.302\n",
      "C(Country_code)[T.12]   113.5162     20.805      5.456      0.000      71.748     155.284\n",
      "Year                      1.2482      0.439      2.843      0.006       0.367       2.130\n",
      "GDP                       0.1542      0.123      1.254      0.216      -0.093       0.401\n",
      "Tech                     -2.6374      8.980     -0.294      0.770     -20.666      15.391\n",
      "Internet                  1.2893      0.161      8.032      0.000       0.967       1.612\n",
      "Health                  -14.8170      2.943     -5.035      0.000     -20.725      -8.909\n",
      "Energy                    0.0027      0.001      5.369      0.000       0.002       0.004\n",
      "==============================================================================\n",
      "Omnibus:                        0.717   Durbin-Watson:                   1.451\n",
      "Prob(Omnibus):                  0.699   Jarque-Bera (JB):                0.253\n",
      "Skew:                           0.091   Prob(JB):                        0.881\n",
      "Kurtosis:                       3.235   Cond. No.                     2.59e+19\n",
      "==============================================================================\n",
      "\n",
      "Warnings:\n",
      "[1] Standard Errors assume that the covariance matrix of the errors is correctly specified.\n",
      "[2] The smallest eigenvalue is 1.46e-28. This might indicate that there are\n",
      "strong multicollinearity problems or that the design matrix is singular.\n"
     ]
    }
   ],
   "source": [
    "simplified = smf.ols(\"CPI ~ Year + GDP + C(Group) + C(Country_code) + Tech + Internet + Health + Energy\", data = df)\n",
    "results = simplified.fit()\n",
    "print(results.summary())"
   ]
  },
  {
   "cell_type": "markdown",
   "metadata": {},
   "source": [
    "### Testing on G20 countries (not in G7 nor in BRICS):"
   ]
  },
  {
   "cell_type": "code",
   "execution_count": 72,
   "metadata": {
    "scrolled": true
   },
   "outputs": [
    {
     "data": {
      "text/html": [
       "<div>\n",
       "<style scoped>\n",
       "    .dataframe tbody tr th:only-of-type {\n",
       "        vertical-align: middle;\n",
       "    }\n",
       "\n",
       "    .dataframe tbody tr th {\n",
       "        vertical-align: top;\n",
       "    }\n",
       "\n",
       "    .dataframe thead th {\n",
       "        text-align: right;\n",
       "    }\n",
       "</style>\n",
       "<table border=\"1\" class=\"dataframe\">\n",
       "  <thead>\n",
       "    <tr style=\"text-align: right;\">\n",
       "      <th>Country</th>\n",
       "      <th>Australia</th>\n",
       "      <th>Saudi Arabia</th>\n",
       "      <th>India</th>\n",
       "      <th>Turkey</th>\n",
       "      <th>Mexico</th>\n",
       "      <th>Indonesia</th>\n",
       "      <th>New Zealand</th>\n",
       "      <th>Singapore</th>\n",
       "    </tr>\n",
       "    <tr>\n",
       "      <th>Year</th>\n",
       "      <th></th>\n",
       "      <th></th>\n",
       "      <th></th>\n",
       "      <th></th>\n",
       "      <th></th>\n",
       "      <th></th>\n",
       "      <th></th>\n",
       "      <th></th>\n",
       "    </tr>\n",
       "  </thead>\n",
       "  <tbody>\n",
       "    <tr>\n",
       "      <th>1995</th>\n",
       "      <td>67.6</td>\n",
       "      <td>NaN</td>\n",
       "      <td>37.6</td>\n",
       "      <td>1.3</td>\n",
       "      <td>26.4</td>\n",
       "      <td>19.4</td>\n",
       "      <td>71.7</td>\n",
       "      <td>81.5</td>\n",
       "    </tr>\n",
       "    <tr>\n",
       "      <th>2005</th>\n",
       "      <td>86.3</td>\n",
       "      <td>81.4</td>\n",
       "      <td>65.8</td>\n",
       "      <td>65.9</td>\n",
       "      <td>80.5</td>\n",
       "      <td>68.7</td>\n",
       "      <td>87.0</td>\n",
       "      <td>88.0</td>\n",
       "    </tr>\n",
       "    <tr>\n",
       "      <th>2014</th>\n",
       "      <td>110.4</td>\n",
       "      <td>112.9</td>\n",
       "      <td>140.8</td>\n",
       "      <td>135.7</td>\n",
       "      <td>116.2</td>\n",
       "      <td>124.4</td>\n",
       "      <td>107.6</td>\n",
       "      <td>113.8</td>\n",
       "    </tr>\n",
       "    <tr>\n",
       "      <th>2015</th>\n",
       "      <td>112.0</td>\n",
       "      <td>114.4</td>\n",
       "      <td>147.7</td>\n",
       "      <td>146.1</td>\n",
       "      <td>119.4</td>\n",
       "      <td>132.3</td>\n",
       "      <td>107.9</td>\n",
       "      <td>113.2</td>\n",
       "    </tr>\n",
       "    <tr>\n",
       "      <th>2016</th>\n",
       "      <td>113.5</td>\n",
       "      <td>116.7</td>\n",
       "      <td>155.0</td>\n",
       "      <td>157.4</td>\n",
       "      <td>122.8</td>\n",
       "      <td>137.0</td>\n",
       "      <td>108.6</td>\n",
       "      <td>112.6</td>\n",
       "    </tr>\n",
       "    <tr>\n",
       "      <th>2017</th>\n",
       "      <td>115.7</td>\n",
       "      <td>115.7</td>\n",
       "      <td>160.1</td>\n",
       "      <td>175.0</td>\n",
       "      <td>130.2</td>\n",
       "      <td>142.2</td>\n",
       "      <td>110.7</td>\n",
       "      <td>113.3</td>\n",
       "    </tr>\n",
       "  </tbody>\n",
       "</table>\n",
       "</div>"
      ],
      "text/plain": [
       "Country  Australia  Saudi Arabia  India  Turkey  Mexico  Indonesia  \\\n",
       "Year                                                                 \n",
       "1995          67.6           NaN   37.6     1.3    26.4       19.4   \n",
       "2005          86.3          81.4   65.8    65.9    80.5       68.7   \n",
       "2014         110.4         112.9  140.8   135.7   116.2      124.4   \n",
       "2015         112.0         114.4  147.7   146.1   119.4      132.3   \n",
       "2016         113.5         116.7  155.0   157.4   122.8      137.0   \n",
       "2017         115.7         115.7  160.1   175.0   130.2      142.2   \n",
       "\n",
       "Country  New Zealand  Singapore  \n",
       "Year                             \n",
       "1995            71.7       81.5  \n",
       "2005            87.0       88.0  \n",
       "2014           107.6      113.8  \n",
       "2015           107.9      113.2  \n",
       "2016           108.6      112.6  \n",
       "2017           110.7      113.3  "
      ]
     },
     "execution_count": 72,
     "metadata": {},
     "output_type": "execute_result"
    }
   ],
   "source": [
    "# testing on G20 countries (not in G7 nor in BRICS) (Note: no data entry for South Korea, and only one entry for Argentina)\n",
    "# added test countries: New Zealand and Singapore\n",
    "testing = [\"Australia\", 'Saudi Arabia', 'India', 'Turkey', 'Mexico', 'Indonesia', 'New Zealand', 'Singapore']  # Argentina\n",
    "CPI.loc[years, testing]"
   ]
  },
  {
   "cell_type": "code",
   "execution_count": 73,
   "metadata": {
    "scrolled": true
   },
   "outputs": [],
   "source": [
    "df_test = pd.DataFrame()\n",
    "for name in testing: \n",
    "    table = pd.DataFrame(CPI.stack().loc[list(years), name])\n",
    "    table = pd.concat([table, pd.DataFrame(GDP.stack().loc[list(years), name]), pd.DataFrame(energy.stack().loc[list(years), name]), pd.DataFrame(tech.stack().loc[list(years), name]), pd.DataFrame(education.stack().loc[list(years), name]), pd.DataFrame(rates.stack().loc[list(years), name]), pd.DataFrame(internet.stack().loc[list(years), name]), pd.DataFrame(tourism.stack().loc[list(years), name]), pd.DataFrame(health.stack().loc[list(years), name])], keys = [\"CPI\", \"GDP\", \"Energy\", \"Tech\", \"Education\", \"Rates\", \"Internet\", \"Tourism\", \"Health\"], axis = 1)\n",
    "    table.fillna(method = \"ffill\", inplace = True)\n",
    "    table.fillna(method = \"bfill\", inplace = True)\n",
    "    df_test = pd.concat([df_test, table])\n",
    "    \n",
    "df_test.fillna(0, inplace = True)\n",
    "\n",
    "df_test.columns = df_test.columns.droplevel(1)\n",
    "df_test[\"Country\"] = df_test.index.get_level_values(1)\n",
    "df_test.index = df_test.index.droplevel(1)\n",
    "df_test.reset_index(inplace = True)"
   ]
  },
  {
   "cell_type": "code",
   "execution_count": 74,
   "metadata": {
    "scrolled": false
   },
   "outputs": [],
   "source": [
    "code_test = {\"Australia\" : 13, \"Saudi Arabia\" : 14, \"India\" : 15, \"Turkey\" : 16, \"Mexico\" : 17, \"Indonesia\" : 18, 'New Zealand' : 19, 'Singapore' : 20}\n",
    "group_code = {\"Australia\" : 1, \"Saudi Arabia\" : 1, \"India\" : 2, \"Turkey\" : 2, \"Mexico\" : 2, \"Indonesia\" : 2, 'New Zealand' : 1, 'Singapore' : 1}\n",
    "\n",
    "df_test[\"Country_code\"] = [code_test[country] for country in df_test.Country]\n",
    "df_test[\"Group\"] = [group_code[country] for country in df_test.Country]\n",
    "df_test[\"CPI_Level\"] = [4 if var > 150 else 3 if var > 120 else 2 if var > 80 else 1 for var in df_test[\"CPI\"]]"
   ]
  },
  {
   "cell_type": "code",
   "execution_count": 75,
   "metadata": {},
   "outputs": [
    {
     "data": {
      "text/html": [
       "<div>\n",
       "<style scoped>\n",
       "    .dataframe tbody tr th:only-of-type {\n",
       "        vertical-align: middle;\n",
       "    }\n",
       "\n",
       "    .dataframe tbody tr th {\n",
       "        vertical-align: top;\n",
       "    }\n",
       "\n",
       "    .dataframe thead th {\n",
       "        text-align: right;\n",
       "    }\n",
       "</style>\n",
       "<table border=\"1\" class=\"dataframe\">\n",
       "  <thead>\n",
       "    <tr style=\"text-align: right;\">\n",
       "      <th></th>\n",
       "      <th>Year</th>\n",
       "      <th>CPI</th>\n",
       "      <th>GDP</th>\n",
       "      <th>Energy</th>\n",
       "      <th>Tech</th>\n",
       "      <th>Education</th>\n",
       "      <th>Rates</th>\n",
       "      <th>Internet</th>\n",
       "      <th>Tourism</th>\n",
       "      <th>Health</th>\n",
       "      <th>Country</th>\n",
       "      <th>Country_code</th>\n",
       "      <th>Group</th>\n",
       "      <th>CPI_Level</th>\n",
       "    </tr>\n",
       "  </thead>\n",
       "  <tbody>\n",
       "    <tr>\n",
       "      <th>0</th>\n",
       "      <td>1995</td>\n",
       "      <td>67.6</td>\n",
       "      <td>21635.0</td>\n",
       "      <td>7784.0</td>\n",
       "      <td>1.9</td>\n",
       "      <td>13.6</td>\n",
       "      <td>1.3</td>\n",
       "      <td>63.0</td>\n",
       "      <td>10370.0</td>\n",
       "      <td>8.0</td>\n",
       "      <td>Australia</td>\n",
       "      <td>13</td>\n",
       "      <td>1</td>\n",
       "      <td>1</td>\n",
       "    </tr>\n",
       "    <tr>\n",
       "      <th>1</th>\n",
       "      <td>2005</td>\n",
       "      <td>86.3</td>\n",
       "      <td>37571.0</td>\n",
       "      <td>11451.0</td>\n",
       "      <td>1.9</td>\n",
       "      <td>13.6</td>\n",
       "      <td>1.3</td>\n",
       "      <td>63.0</td>\n",
       "      <td>19719.0</td>\n",
       "      <td>8.0</td>\n",
       "      <td>Australia</td>\n",
       "      <td>13</td>\n",
       "      <td>1</td>\n",
       "      <td>2</td>\n",
       "    </tr>\n",
       "    <tr>\n",
       "      <th>2</th>\n",
       "      <td>2014</td>\n",
       "      <td>110.4</td>\n",
       "      <td>37571.0</td>\n",
       "      <td>15272.0</td>\n",
       "      <td>1.9</td>\n",
       "      <td>13.9</td>\n",
       "      <td>1.1</td>\n",
       "      <td>84.0</td>\n",
       "      <td>19719.0</td>\n",
       "      <td>9.1</td>\n",
       "      <td>Australia</td>\n",
       "      <td>13</td>\n",
       "      <td>1</td>\n",
       "      <td>2</td>\n",
       "    </tr>\n",
       "    <tr>\n",
       "      <th>3</th>\n",
       "      <td>2015</td>\n",
       "      <td>112.0</td>\n",
       "      <td>52388.0</td>\n",
       "      <td>15930.0</td>\n",
       "      <td>1.9</td>\n",
       "      <td>13.9</td>\n",
       "      <td>1.3</td>\n",
       "      <td>84.6</td>\n",
       "      <td>30872.0</td>\n",
       "      <td>9.4</td>\n",
       "      <td>Australia</td>\n",
       "      <td>13</td>\n",
       "      <td>1</td>\n",
       "      <td>2</td>\n",
       "    </tr>\n",
       "    <tr>\n",
       "      <th>4</th>\n",
       "      <td>2016</td>\n",
       "      <td>113.5</td>\n",
       "      <td>54067.0</td>\n",
       "      <td>16322.0</td>\n",
       "      <td>1.9</td>\n",
       "      <td>13.9</td>\n",
       "      <td>1.3</td>\n",
       "      <td>86.5</td>\n",
       "      <td>36786.0</td>\n",
       "      <td>9.4</td>\n",
       "      <td>Australia</td>\n",
       "      <td>13</td>\n",
       "      <td>1</td>\n",
       "      <td>2</td>\n",
       "    </tr>\n",
       "  </tbody>\n",
       "</table>\n",
       "</div>"
      ],
      "text/plain": [
       "   Year    CPI      GDP   Energy  Tech  Education  Rates  Internet  Tourism  \\\n",
       "0  1995   67.6  21635.0   7784.0   1.9       13.6    1.3      63.0  10370.0   \n",
       "1  2005   86.3  37571.0  11451.0   1.9       13.6    1.3      63.0  19719.0   \n",
       "2  2014  110.4  37571.0  15272.0   1.9       13.9    1.1      84.0  19719.0   \n",
       "3  2015  112.0  52388.0  15930.0   1.9       13.9    1.3      84.6  30872.0   \n",
       "4  2016  113.5  54067.0  16322.0   1.9       13.9    1.3      86.5  36786.0   \n",
       "\n",
       "   Health    Country  Country_code  Group  CPI_Level  \n",
       "0     8.0  Australia            13      1          1  \n",
       "1     8.0  Australia            13      1          2  \n",
       "2     9.1  Australia            13      1          2  \n",
       "3     9.4  Australia            13      1          2  \n",
       "4     9.4  Australia            13      1          2  "
      ]
     },
     "execution_count": 75,
     "metadata": {},
     "output_type": "execute_result"
    }
   ],
   "source": [
    "df_test.head()"
   ]
  },
  {
   "cell_type": "code",
   "execution_count": 76,
   "metadata": {},
   "outputs": [
    {
     "data": {
      "text/html": [
       "<div>\n",
       "<style scoped>\n",
       "    .dataframe tbody tr th:only-of-type {\n",
       "        vertical-align: middle;\n",
       "    }\n",
       "\n",
       "    .dataframe tbody tr th {\n",
       "        vertical-align: top;\n",
       "    }\n",
       "\n",
       "    .dataframe thead th {\n",
       "        text-align: right;\n",
       "    }\n",
       "</style>\n",
       "<table border=\"1\" class=\"dataframe\">\n",
       "  <thead>\n",
       "    <tr style=\"text-align: right;\">\n",
       "      <th></th>\n",
       "      <th>Year</th>\n",
       "      <th>GDP</th>\n",
       "      <th>Energy</th>\n",
       "      <th>Tech</th>\n",
       "      <th>Education</th>\n",
       "      <th>Rates</th>\n",
       "      <th>Internet</th>\n",
       "      <th>Tourism</th>\n",
       "      <th>Health</th>\n",
       "      <th>Country_code</th>\n",
       "      <th>Group</th>\n",
       "      <th>G7</th>\n",
       "      <th>BRICS</th>\n",
       "    </tr>\n",
       "  </thead>\n",
       "  <tbody>\n",
       "    <tr>\n",
       "      <th>0</th>\n",
       "      <td>1995</td>\n",
       "      <td>21635.0</td>\n",
       "      <td>7784.0</td>\n",
       "      <td>1.9</td>\n",
       "      <td>13.6</td>\n",
       "      <td>1.3</td>\n",
       "      <td>63.0</td>\n",
       "      <td>10370.0</td>\n",
       "      <td>8.0</td>\n",
       "      <td>13</td>\n",
       "      <td>1</td>\n",
       "      <td>1.0</td>\n",
       "      <td>0.0</td>\n",
       "    </tr>\n",
       "    <tr>\n",
       "      <th>1</th>\n",
       "      <td>2005</td>\n",
       "      <td>37571.0</td>\n",
       "      <td>11451.0</td>\n",
       "      <td>1.9</td>\n",
       "      <td>13.6</td>\n",
       "      <td>1.3</td>\n",
       "      <td>63.0</td>\n",
       "      <td>19719.0</td>\n",
       "      <td>8.0</td>\n",
       "      <td>13</td>\n",
       "      <td>1</td>\n",
       "      <td>1.0</td>\n",
       "      <td>0.0</td>\n",
       "    </tr>\n",
       "    <tr>\n",
       "      <th>2</th>\n",
       "      <td>2014</td>\n",
       "      <td>37571.0</td>\n",
       "      <td>15272.0</td>\n",
       "      <td>1.9</td>\n",
       "      <td>13.9</td>\n",
       "      <td>1.1</td>\n",
       "      <td>84.0</td>\n",
       "      <td>19719.0</td>\n",
       "      <td>9.1</td>\n",
       "      <td>13</td>\n",
       "      <td>1</td>\n",
       "      <td>1.0</td>\n",
       "      <td>0.0</td>\n",
       "    </tr>\n",
       "    <tr>\n",
       "      <th>3</th>\n",
       "      <td>2015</td>\n",
       "      <td>52388.0</td>\n",
       "      <td>15930.0</td>\n",
       "      <td>1.9</td>\n",
       "      <td>13.9</td>\n",
       "      <td>1.3</td>\n",
       "      <td>84.6</td>\n",
       "      <td>30872.0</td>\n",
       "      <td>9.4</td>\n",
       "      <td>13</td>\n",
       "      <td>1</td>\n",
       "      <td>1.0</td>\n",
       "      <td>0.0</td>\n",
       "    </tr>\n",
       "    <tr>\n",
       "      <th>4</th>\n",
       "      <td>2016</td>\n",
       "      <td>54067.0</td>\n",
       "      <td>16322.0</td>\n",
       "      <td>1.9</td>\n",
       "      <td>13.9</td>\n",
       "      <td>1.3</td>\n",
       "      <td>86.5</td>\n",
       "      <td>36786.0</td>\n",
       "      <td>9.4</td>\n",
       "      <td>13</td>\n",
       "      <td>1</td>\n",
       "      <td>1.0</td>\n",
       "      <td>0.0</td>\n",
       "    </tr>\n",
       "  </tbody>\n",
       "</table>\n",
       "</div>"
      ],
      "text/plain": [
       "   Year      GDP   Energy  Tech  Education  Rates  Internet  Tourism  Health  \\\n",
       "0  1995  21635.0   7784.0   1.9       13.6    1.3      63.0  10370.0     8.0   \n",
       "1  2005  37571.0  11451.0   1.9       13.6    1.3      63.0  19719.0     8.0   \n",
       "2  2014  37571.0  15272.0   1.9       13.9    1.1      84.0  19719.0     9.1   \n",
       "3  2015  52388.0  15930.0   1.9       13.9    1.3      84.6  30872.0     9.4   \n",
       "4  2016  54067.0  16322.0   1.9       13.9    1.3      86.5  36786.0     9.4   \n",
       "\n",
       "   Country_code  Group   G7  BRICS  \n",
       "0            13      1  1.0    0.0  \n",
       "1            13      1  1.0    0.0  \n",
       "2            13      1  1.0    0.0  \n",
       "3            13      1  1.0    0.0  \n",
       "4            13      1  1.0    0.0  "
      ]
     },
     "execution_count": 76,
     "metadata": {},
     "output_type": "execute_result"
    }
   ],
   "source": [
    "x_test = df_test.iloc[:, [0,2,3,4,5,6,7,8,9,11,12]]\n",
    "y_test = df_test.iloc[:, 1]\n",
    "\n",
    "x_test.reset_index(inplace = True)\n",
    "x = pd.concat([x_test, pd.DataFrame(encode.fit_transform(x_test[[\"Group\"]]), columns = [\"G7\", \"BRICS\"])], axis = 1)\n",
    "x.drop(\"index\", axis = 1, inplace = True)\n",
    "# for MLR modeling:\n",
    "df_testing = pd.concat([x, y_test.reset_index().iloc[:, 1]], axis = 1)\n",
    "x.head()"
   ]
  },
  {
   "cell_type": "code",
   "execution_count": 77,
   "metadata": {
    "scrolled": false
   },
   "outputs": [
    {
     "name": "stdout",
     "output_type": "stream",
     "text": [
      "(55, 13)\n",
      "(48, 13)\n"
     ]
    }
   ],
   "source": [
    "print(x_train_code.shape)\n",
    "print(x.shape)"
   ]
  },
  {
   "cell_type": "code",
   "execution_count": 78,
   "metadata": {},
   "outputs": [
    {
     "data": {
      "text/plain": [
       "-26.7381193394993"
      ]
     },
     "execution_count": 78,
     "metadata": {},
     "output_type": "execute_result"
    }
   ],
   "source": [
    "# MLR with country_code as numeric variable:\n",
    "linear_s.score(x, y_test)"
   ]
  },
  {
   "cell_type": "code",
   "execution_count": 80,
   "metadata": {},
   "outputs": [
    {
     "name": "stdout",
     "output_type": "stream",
     "text": [
      "                            OLS Regression Results                            \n",
      "==============================================================================\n",
      "Dep. Variable:                    CPI   R-squared:                       0.948\n",
      "Model:                            OLS   Adj. R-squared:                  0.924\n",
      "Method:                 Least Squares   F-statistic:                     38.88\n",
      "Date:                Fri, 31 May 2019   Prob (F-statistic):           2.84e-16\n",
      "Time:                        13:43:35   Log-Likelihood:                -169.72\n",
      "No. Observations:                  48   AIC:                             371.4\n",
      "Df Residuals:                      32   BIC:                             401.4\n",
      "Df Model:                          15                                         \n",
      "Covariance Type:            nonrobust                                         \n",
      "=========================================================================================\n",
      "                            coef    std err          t      P>|t|      [0.025      0.975]\n",
      "-----------------------------------------------------------------------------------------\n",
      "Intercept             -6069.9806   1058.992     -5.732      0.000   -8227.077   -3912.884\n",
      "C(Group)[T.2]          -115.3155     35.407     -3.257      0.003    -187.437     -43.194\n",
      "C(Country_code)[T.14]  -193.1812     59.377     -3.253      0.003    -314.129     -72.233\n",
      "C(Country_code)[T.15]   -23.6169     18.441     -1.281      0.210     -61.180      13.946\n",
      "C(Country_code)[T.16]    -0.2754     12.239     -0.023      0.982     -25.205      24.654\n",
      "C(Country_code)[T.17]    -6.1609     17.699     -0.348      0.730     -42.214      29.892\n",
      "C(Country_code)[T.18]   -85.2623     25.712     -3.316      0.002    -137.636     -32.889\n",
      "C(Country_code)[T.19]    -0.3094     34.249     -0.009      0.993     -70.072      69.453\n",
      "C(Country_code)[T.20]  -158.1443     33.346     -4.743      0.000    -226.067     -90.221\n",
      "Year                      3.1666      0.528      5.999      0.000       2.091       4.242\n",
      "GDP                      -0.0004      0.000     -0.758      0.454      -0.001       0.001\n",
      "Energy                    0.0019      0.001      1.543      0.133      -0.001       0.004\n",
      "Tech                    -17.1896     26.899     -0.639      0.527     -71.982      37.602\n",
      "Education                 3.8034      1.975      1.926      0.063      -0.220       7.827\n",
      "Internet                  0.9502      0.240      3.965      0.000       0.462       1.438\n",
      "Tourism                   0.0004      0.000      0.798      0.431      -0.001       0.001\n",
      "Health                  -34.8388      5.737     -6.073      0.000     -46.524     -23.153\n",
      "==============================================================================\n",
      "Omnibus:                        0.936   Durbin-Watson:                   2.523\n",
      "Prob(Omnibus):                  0.626   Jarque-Bera (JB):                0.290\n",
      "Skew:                          -0.062   Prob(JB):                        0.865\n",
      "Kurtosis:                       3.360   Cond. No.                     1.10e+17\n",
      "==============================================================================\n",
      "\n",
      "Warnings:\n",
      "[1] Standard Errors assume that the covariance matrix of the errors is correctly specified.\n",
      "[2] The smallest eigenvalue is 3.85e-24. This might indicate that there are\n",
      "strong multicollinearity problems or that the design matrix is singular.\n"
     ]
    }
   ],
   "source": [
    "# new model for new observations:\n",
    "model = smf.ols(\"CPI ~ Year + GDP  + Energy + Tech + Education + Internet + Tourism + Health + C(Group) + C(Country_code)\", data = df_testing)\n",
    "results = model.fit()\n",
    "print(results.summary())"
   ]
  },
  {
   "cell_type": "markdown",
   "metadata": {},
   "source": [
    "## 6. Results and Analysis:"
   ]
  },
  {
   "cell_type": "markdown",
   "metadata": {
    "collapsed": true
   },
   "source": [
    "### Part I: predicting CPI range (categorical)\n",
    "#### Results:\n",
    "- G7 countries:\n",
    "    - KNN: tends to predict higher CPI range.\n",
    "    - Naive Bayes: tends to predict higher CPI range.\n",
    "    - Summary: two classifiers have very similar classification outcomes.\n",
    "- BRICS:\n",
    "    - KNN: tends to predict higher CPI range.\n",
    "    - Naive Bayes: correctly classified all labels in the testing set.\n",
    "    - Summary: has higer correct classification rate than KNN.\n",
    "- G7 and BRICS:\n",
    "    - KNN: tends to have misclassifications on class 1 and class 3.\n",
    "    - Naive Bayes: tends to have misclssifications on class 1.\n",
    "    - Summary: Naive Bayes classifier classifies the label better than KNN classifier.\n",
    "    \n",
    "#### Analysis:\n",
    "(1) Analysis on two types of classifiers:\n",
    "- In KNN classifier, we are looking for the neareast neighbors based on Euclidean distances to decide which class the input belongs to. \n",
    "- In Naive Bayes classifier, we assumed that predictor variables are independent from each other. This is an important simpification in our model, since the macroeconomics predictors (such as GDP, expenditure on energy, expenditure on education, etc.) that we have choosen to use are, to some degree, independent factors that represent the economic growth of countries.\n",
    "- Based on the fact that Naive Bayes classifier has a reasonable assumption that can largely simplify the analysis and increase the accuracy of the classification, we suggest using Naive Bayes classification method in this model.\n",
    "\n",
    "(2) Analysis on three ways of making the classification:\n",
    "- In the classification for G7 countries, it can be observed that there are only two possible labels for the range of CPI: 1 (low CPI) and 2 (moderate CPI). \n",
    "- In the classification for BRICS countries, there are four different labels for the range of CPI, varying from 1 to 4.\n",
    "- The difference between the total number of output classes reflects the fact that these two groups of countries have quite different economic growth pattern, i.e., the developed countries in G7 tend to have more stable range of CPI, while the developing countries in BRICS tend to have more fluctuations in the range of CPI.\n",
    "- This difference between CPI of G7 and BRICS can be observed from the output of three classifications: the correct classification rate is higher when we seperated countries into G7 and BRICS countries.\n",
    "- Therefore, it is more reasonable to analyze the CPI range of G7 and BRICS countries seperately, based on the situation that developed countries and developing countries tend to have large amount of variation in their ecnomic growth pattern."
   ]
  },
  {
   "cell_type": "markdown",
   "metadata": {},
   "source": [
    "### Part II: predicting CPI value (numeric)\n",
    "#### Results:\n",
    "- MLR model for G7 countries:\n",
    "    - $R^{2}_{adj}$: 0.906\n",
    "    - CV score: 0.6131\n",
    "- BRICS:\n",
    "    - $R^{2}_{adj}$: 0.986\n",
    "    - CV score: 0.6869\n",
    "- G7 and BRICS:\n",
    "    - $R^{2}_{adj}$: 0.870\n",
    "    - CV score: 0.8208\n",
    "- New testing set of countries:\n",
    "    - $R^{2}$: 0.2678\n",
    "    - $R^{2}_{adj}$ of new model: 0.924\n",
    "    \n",
    "#### Analysis:\n",
    "- ANOVA:\n",
    "    \n",
    "    Based on the ANOVA for each three types of models - G7, BRICS, and two groups combined, we notice that the multiple linear regression models for G7 and BRICS both have very high $R^{2}_{adj}$, meaning that the variables selected can explain a large amount of variation of CPI. \n",
    "    \n",
    "    (1) From ANOVA of G7, it can be observed that variables Tech, Education, Tourism, Internet and Rates are not statistically significant predictors, based on significance level $\\alpha = 0.05$. After removing these five predictors from the model, we notice that our model is highly simplified, and at the same token, the $R^{2}_{adj}$ of the model remains at 0.947. \n",
    "    \n",
    "    Thus, our final model for G7 countries is: \n",
    "    \n",
    "    $$CPI = \\beta_0 + \\beta_1GDP + \\beta_2Energy + \\beta_3Health + C(Country\\_code)$$\n",
    "    \n",
    "    (2) From ANOVA of BRICS, we observe that predictors GDP, Tech, Education and Tourism are not statistically significant in predicting the response, using significance level $\\alpha = 0.05$. Instead of removing all of these insignificant predictors, we decided to make a transformation on GDP, and remove the other three predictors. After performing the transformation on GDP and removing three predictors, we observe that the $R^{2}_{adj}$ of the new reduced model remains at 0.986. \n",
    "    \n",
    "    Thus, our final model for BRICS countries is: \n",
    "    \n",
    "    $$CPI = \\beta_0 + \\beta_1\\sqrt{GDP} + \\beta_2Energy + \\beta_3Internet + \\beta_4Health + C(Country\\_code)$$\n",
    "    \n",
    "    (3) Similarly, from the ANOVA for two groups combined, we observe that GDP, Tech, Education and Tourism are not statistically significant predictors. After transforming GDP and  removing other predictors, we see that $R^{2}_{adj}$ actually increased to be 0.880.\n",
    "    \n",
    "    Therefore, the final model for two groups combined is: \n",
    "    \n",
    "    $$CPI = \\beta_0 + \\beta_1\\sqrt{GDP} + \\beta_2Energy + \\beta_3Internet + \\beta_4Health + \\beta_5Tech + C(Country\\_code) + C(Group\\_code)$$\n",
    " \n",
    " \n",
    "- Cross Validation: \n",
    "\n",
    "    Although $R^{2}_{adj}$ of regression models on G7 and on BRICS are both above 90%, when we did cross validation on these two models, the cv scores are not as good as the cv score for regression model using G7 and BRICS combined. This shows that when we seperate our data into G7 and BRICS and build two models, the model tends to be overfitting (**low bias but high variance**); similarly, when we build a model for two groups of countries combined, the model also tends to be overfitting (**high bias but low variance**).\n",
    "    \n",
    "    \n",
    "- Testing model on new observations:\n",
    "\n"
   ]
  },
  {
   "cell_type": "markdown",
   "metadata": {},
   "source": [
    "## 7. Conclusion and Discussion:"
   ]
  },
  {
   "cell_type": "code",
   "execution_count": null,
   "metadata": {},
   "outputs": [],
   "source": []
  },
  {
   "cell_type": "markdown",
   "metadata": {},
   "source": [
    "## 8. References:\n",
    "\n",
    "- Description of CPI data: http://data.un.org/_Docs/SYB/PDFs/SYB61_T19_Consumer%20Price%20Index.pdf\n",
    "- G7 countries: https://en.wikipedia.org/wiki/Group_of_Seven\n",
    "- BRICS countries: https://en.wikipedia.org/wiki/BRICS\n",
    "- G20 countries: https://en.wikipedia.org/wiki/G20\n",
    "\n",
    "- Factors related to CPI: https://www.investopedia.com/terms/c/consumerpriceindex.asp"
   ]
  }
 ],
 "metadata": {
  "kernelspec": {
   "display_name": "Python 3",
   "language": "python",
   "name": "python3"
  },
  "language_info": {
   "codemirror_mode": {
    "name": "ipython",
    "version": 3
   },
   "file_extension": ".py",
   "mimetype": "text/x-python",
   "name": "python",
   "nbconvert_exporter": "python",
   "pygments_lexer": "ipython3",
   "version": "3.7.3"
  }
 },
 "nbformat": 4,
 "nbformat_minor": 2
}
